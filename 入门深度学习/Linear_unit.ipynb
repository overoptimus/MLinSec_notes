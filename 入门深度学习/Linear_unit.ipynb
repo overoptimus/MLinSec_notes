{
 "cells": [
  {
   "cell_type": "code",
   "execution_count": 53,
   "metadata": {},
   "outputs": [],
   "source": [
    "from functools import reduce\n",
    "class Perceptron(object):\n",
    "    def __init__(self, input_num, activator):\n",
    "        '''\n",
    "        初始化感知器，设置输入参数，以及激活函数。\n",
    "        激活函数的类型为double->double\n",
    "        '''\n",
    "        self.activator = activator\n",
    "        # 权重向量初始化为0\n",
    "        self.weights = [0.0 for _ in range(input_num)]\n",
    "        # 偏置项初始化为0\n",
    "        self.bias = 0\n",
    "        \n",
    "    def __str__(self):\n",
    "        '''\n",
    "        打印学习到的权重、偏置项\n",
    "        '''\n",
    "        return 'weights\\t:%s\\nbias\\t:%f' % (self.weights, self.bias)\n",
    "    \n",
    "    def get_wab(self):\n",
    "        return self.weights, self.bias\n",
    "    \n",
    "    def predict(self, input_vec):\n",
    "        '''\n",
    "        输入向量，输出感知器的计算结果\n",
    "        '''\n",
    "        '''\n",
    "        把input_vec[x1, x2, x3...]和weights[w1, w2, w3,...]打包在一起\n",
    "        变成[(x1,w1), (x2,w2), (x3,w3), ...]\n",
    "        然后利用map函数计算[x1*w1, x2*w2, x3*w3]\n",
    "        最后利用reduce求和\n",
    "        '''\n",
    "        # print('part_list:', part_list)\n",
    "        # print('input_vec:', input_vec, '\\nself.weights:', self.weights)\n",
    "        part_list = list(map(lambda x,w:x*w, input_vec, self.weights))\n",
    "        return self.activator(\n",
    "            reduce(lambda a, b: a+b, part_list, 0.0) \n",
    "            + self.bias)\n",
    "    \n",
    "    def train(self, input_vecs, labels, iteration, rate):\n",
    "        '''\n",
    "        输入训练数据：一组向量与每个向量对应的label；以及训练轮数学习率\n",
    "        '''\n",
    "        for i in range(iteration):\n",
    "            self._one_iteration(input_vecs, labels, rate)\n",
    "    \n",
    "    def _one_iteration(self, input_vecs, labels, rate):\n",
    "        '''\n",
    "        一次迭代，把所有的训练数据过一遍\n",
    "        '''\n",
    "        '''\n",
    "        把输入和输出打包在一起，称为样本的列表[(input_vec, label), ...]\n",
    "        而每个训练样本是（input_vec, label)\n",
    "        '''\n",
    "        samples = zip(input_vecs, labels)\n",
    "        # print('simples', input_vecs, labels)\n",
    "        # 对每个样本，按照感知器规则更新权重\n",
    "        for (input_vec, label) in samples:\n",
    "            # 计算感知器在当前权重下的输出\n",
    "            output = self.predict(input_vec)\n",
    "            # 更新权重\n",
    "            self._update_weights(input_vec, output, label, rate)\n",
    "            \n",
    "    def _update_weights(self, input_vec, output, label, rate):\n",
    "        '''\n",
    "        按照感知器规则更新权重\n",
    "        '''\n",
    "        # 把input_vec[x1, x2, x3,...]和weights[w1, w2, w3, ...]打包在一起\n",
    "        # 变成[(x1,w1),(x2,w2),(x3,w3),...]\n",
    "        # 然后利用感知器规则更新权重\n",
    "        delta = label - output\n",
    "        self.weights = list(map(lambda x, w:w+rate*delta*x, input_vec, self.weights))\n",
    "        # 更新bias\n",
    "        self.bias += rate * delta"
   ]
  },
  {
   "cell_type": "code",
   "execution_count": 54,
   "metadata": {},
   "outputs": [],
   "source": [
    "\n",
    "f = lambda x:x\n",
    "\n",
    "class LinearUnit(Perceptron):\n",
    "    def __init__(self, input_num):\n",
    "        Perceptron.__init__(self, input_num, f)\n",
    "    \n",
    "    def get_wab(self):\n",
    "        return Perceptron.get_wab(self)"
   ]
  },
  {
   "cell_type": "code",
   "execution_count": 66,
   "metadata": {},
   "outputs": [
    {
     "name": "stdout",
     "output_type": "stream",
     "text": [
      "weights\t:[1124.0634970262222]\n",
      "bias\t:85.485289\n",
      "Work 3.4 years, monthly salary = 3907.30\n",
      "Work 15 years, monthly salary = 16946.44\n",
      "Work 1.5 years, monthly salary = 1771.58\n",
      "Work 6.3 years, monthly salary = 7167.09\n"
     ]
    }
   ],
   "source": [
    "def get_training_dataset():\n",
    "    # 输入5个人的收入数据\n",
    "    # 输入向量列表，每一项是工作年限\n",
    "    input_vecs = [[5], [3], [8], [1.4], [10.1]]\n",
    "    # 期望的输出列表，月薪，注意与输入一一对应\n",
    "    labels = [5500, 2300, 7600, 1800, 11400]\n",
    "    return input_vecs, labels\n",
    "\n",
    "def train_linear_unit():\n",
    "    lu = LinearUnit(1)\n",
    "    # 训练，迭代10轮，学习速率0.01 \n",
    "    input_vecs, labels = get_training_dataset()\n",
    "    lu.train(input_vecs, labels, 10, 0.01)\n",
    "    return lu\n",
    "\n",
    "\n",
    "linear_unit = train_linear_unit()\n",
    "# 输出训练的权值\n",
    "print(linear_unit)\n",
    "x, y = get_training_dataset()\n",
    "# print(weights, bias)\n",
    "# 测试\n",
    "print('Work 3.4 years, monthly salary = %.2f' % linear_unit.predict([3.4]))\n",
    "print('Work 15 years, monthly salary = %.2f' % linear_unit.predict([15]))\n",
    "print('Work 1.5 years, monthly salary = %.2f' % linear_unit.predict([1.5]))\n",
    "print('Work 6.3 years, monthly salary = %.2f' % linear_unit.predict([6.3]))"
   ]
  },
  {
   "cell_type": "code",
   "execution_count": 69,
   "metadata": {},
   "outputs": [
    {
     "name": "stderr",
     "output_type": "stream",
     "text": [
      "/Users/optimus/.pyenv/versions/anaconda3-5.3.1/lib/python3.7/site-packages/matplotlib/figure.py:457: UserWarning: matplotlib is currently using a non-GUI backend, so cannot show the figure\n",
      "  \"matplotlib is currently using a non-GUI backend, \"\n"
     ]
    },
    {
     "data": {
      "image/png": "[encoded data removed]",
      "text/plain": [
       "<Figure size 432x288 with 1 Axes>"
      ]
     },
     "metadata": {
      "needs_background": "light"
     },
     "output_type": "display_data"
    }
   ],
   "source": [
    "import matplotlib.pyplot as plt\n",
    "x_t = [0, 10]\n",
    "y_t = [linear_unit.predict([0]), linear_unit.predict([10])]\n",
    "fig = plt.figure()\n",
    "ax = fig.add_subplot(111)\n",
    "ax.scatter(x, y)\n",
    "ax.plot(x_t,y_t)\n",
    "fig.show()"
   ]
  },
  {
   "cell_type": "code",
   "execution_count": null,
   "metadata": {},
   "outputs": [],
   "source": []
  }
 ],
 "metadata": {
  "kernelspec": {
   "display_name": "Python 3",
   "language": "python",
   "name": "python3"
  },
  "language_info": {
   "codemirror_mode": {
    "name": "ipython",
    "version": 3
   },
   "file_extension": ".py",
   "mimetype": "text/x-python",
   "name": "python",
   "nbconvert_exporter": "python",
   "pygments_lexer": "ipython3",
   "version": "3.7.2"
  }
 },
 "nbformat": 4,
 "nbformat_minor": 2
}
