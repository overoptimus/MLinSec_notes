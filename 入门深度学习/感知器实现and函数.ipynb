{
 "cells": [
  {
   "cell_type": "code",
   "execution_count": 80,
   "metadata": {},
   "outputs": [],
   "source": [
    "from functools import reduce\n",
    "class Perceptron(object):\n",
    "    def __init__(self, input_num, activator):\n",
    "        '''\n",
    "        初始化感知器，设置输入参数，以及激活函数。\n",
    "        激活函数的类型为double->double\n",
    "        '''\n",
    "        self.activator = activator\n",
    "        # 权重向量初始化为0\n",
    "        self.weights = [0.0 for _ in range(input_num)]\n",
    "        # 偏置项初始化为0\n",
    "        self.bias = 0\n",
    "        \n",
    "    def __str__(self):\n",
    "        '''\n",
    "        打印学习到的权重、偏置项\n",
    "        '''\n",
    "        return 'weights\\t:%s\\nbias\\t:%f' % (self.weights, self.bias)\n",
    "    \n",
    "    def predict(self, input_vec):\n",
    "        '''\n",
    "        输入向量，输出感知器的计算结果\n",
    "        '''\n",
    "        '''\n",
    "        把input_vec[x1, x2, x3...]和weights[w1, w2, w3,...]打包在一起\n",
    "        变成[(x1,w1), (x2,w2), (x3,w3), ...]\n",
    "        然后利用map函数计算[x1*w1, x2*w2, x3*w3]\n",
    "        最后利用reduce求和\n",
    "        '''\n",
    "        # print('part_list:', part_list)\n",
    "        # print('input_vec:', input_vec, '\\nself.weights:', self.weights)\n",
    "        part_list = list(map(lambda x,w:x*w, input_vec, self.weights))\n",
    "        return self.activator(\n",
    "            reduce(lambda a, b: a+b, part_list, 0.0) \n",
    "            + self.bias)\n",
    "    \n",
    "    def train(self, input_vecs, labels, iteration, rate):\n",
    "        '''\n",
    "        输入训练数据：一组向量与每个向量对应的label；以及训练论述】学习率\n",
    "        '''\n",
    "        for i in range(iteration):\n",
    "            self._one_iteration(input_vecs, labels, rate)\n",
    "    \n",
    "    def _one_iteration(self, input_vecs, labels, rate):\n",
    "        '''\n",
    "        一次迭代，把所有的训练数据过一遍\n",
    "        '''\n",
    "        '''\n",
    "        把输入和输出打包在一起，称为样本的列表[(input_vec, label), ...]\n",
    "        而每个训练样本是（input_vec, label)\n",
    "        '''\n",
    "        samples = zip(input_vecs, labels)\n",
    "        # 对每个样本，按照感知器规则更新权重\n",
    "        for (input_vec, label) in samples:\n",
    "            # 计算感知器在当前权重下的输出\n",
    "            output = self.predict(input_vec)\n",
    "            # 更新权重\n",
    "            self._update_weights(input_vec, output, label, rate)\n",
    "            \n",
    "    def _update_weights(self, input_vec, output, label, rate):\n",
    "        '''\n",
    "        按照感知器规则更新权重\n",
    "        '''\n",
    "        # 把input_vec[x1, x2, x3,...]和weights[w1, w2, w3, ...]打包在一起\n",
    "        # 变成[(x1,w1),(x2,w2),(x3,w3),...]\n",
    "        # 然后利用感知器规则更新权重\n",
    "        delta = label - output\n",
    "        self.weights = list(map(lambda x, w:w+rate*delta*x, input_vec, self.weights))\n",
    "        # 更新bias\n",
    "        self.bias += rate * delta\n",
    "        \n",
    "\n",
    "def f(x):\n",
    "    '''\n",
    "    定义激活函数f\n",
    "    '''\n",
    "    return 1 if x>0 else 0\n",
    "\n",
    "def get_training_dataset():\n",
    "    '''\n",
    "    基于and真值表构建训练数据\n",
    "    '''\n",
    "    # 构建训练数据\n",
    "    # 输入向量列表\n",
    "    input_vecs = [[1,1], [0,0], [1,0], [0,1]]\n",
    "    # 期望的输出列表，注意要与输入一一对应\n",
    "    labels = [1, 0, 0, 0]\n",
    "    return input_vecs, labels\n",
    "\n",
    "def train_and_preceptron():\n",
    "    '''\n",
    "    使用and真值表训练感知器\n",
    "    '''\n",
    "    # 创建感知器，输入参数个数为2，激活函数为f\n",
    "    p = Perceptron(2, f)\n",
    "    # 训练，迭代10轮，学习速率为0.1\n",
    "    input_vecs, labels = get_training_dataset()\n",
    "    p.train(input_vecs, labels, 30, 0.2)\n",
    "    # 返回训练好的感知器\n",
    "    return p"
   ]
  },
  {
   "cell_type": "code",
   "execution_count": 81,
   "metadata": {},
   "outputs": [
    {
     "name": "stdout",
     "output_type": "stream",
     "text": [
      "weights\t:[0.2, 0.4]\n",
      "bias\t:-0.400000\n"
     ]
    }
   ],
   "source": [
    "# 训练and感知器\n",
    "and_perception = train_and_preceptron()\n",
    "# 打印训练获得的权重\n",
    "print(and_perception)"
   ]
  },
  {
   "cell_type": "code",
   "execution_count": 82,
   "metadata": {},
   "outputs": [
    {
     "name": "stdout",
     "output_type": "stream",
     "text": [
      "1 and 1 = 1\n",
      "0 and 0 = 0\n",
      "1 and 0 = 0\n",
      "0 and 1 = 0\n"
     ]
    }
   ],
   "source": [
    "# 测试\n",
    "print('1 and 1 = %d' % and_perception.predict([1, 1]))\n",
    "print('0 and 0 = %d' % and_perception.predict([0, 0]))\n",
    "print('1 and 0 = %d' % and_perception.predict([1, 0]))\n",
    "print('0 and 1 = %d' % and_perception.predict([0, 1]))"
   ]
  },
  {
   "cell_type": "code",
   "execution_count": null,
   "metadata": {},
   "outputs": [],
   "source": []
  }
 ],
 "metadata": {
  "kernelspec": {
   "display_name": "Python 3",
   "language": "python",
   "name": "python3"
  },
  "language_info": {
   "codemirror_mode": {
    "name": "ipython",
    "version": 3
   },
   "file_extension": ".py",
   "mimetype": "text/x-python",
   "name": "python",
   "nbconvert_exporter": "python",
   "pygments_lexer": "ipython3",
   "version": "3.7.2"
  }
 },
 "nbformat": 4,
 "nbformat_minor": 2
}
