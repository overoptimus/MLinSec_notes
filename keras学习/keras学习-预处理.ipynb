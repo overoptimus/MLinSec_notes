{
 "metadata": {
  "language_info": {
   "codemirror_mode": {
    "name": "ipython",
    "version": 3
   },
   "file_extension": ".py",
   "mimetype": "text/x-python",
   "name": "python",
   "nbconvert_exporter": "python",
   "pygments_lexer": "ipython3",
   "version": "3.8.1-final"
  },
  "orig_nbformat": 2,
  "kernelspec": {
   "name": "python3",
   "display_name": "Python 3",
   "language": "python"
  }
 },
 "nbformat": 4,
 "nbformat_minor": 2,
 "cells": [
  {
   "source": [
    "# 序列预处理"
   ],
   "cell_type": "markdown",
   "metadata": {}
  },
  {
   "cell_type": "code",
   "execution_count": 14,
   "metadata": {},
   "outputs": [
    {
     "output_type": "stream",
     "name": "stdout",
     "text": [
      "45\n"
     ]
    }
   ],
   "source": [
    "from tensorflow.keras.preprocessing.sequence import TimeseriesGenerator\n",
    "import numpy as np\n",
    "\n",
    "data = np.array([[i] for i in range(100)])\n",
    "targets = np.array([[i] for i in range(100)])\n",
    "\n",
    "data_gen = TimeseriesGenerator(data, targets, length=10, sampling_rate=2, batch_size=2)\n",
    "\n",
    "print(len(data_gen))\n",
    "\n",
    "batch_0 = data_gen[0]\n",
    "x, y = batch_0\n",
    "assert np.array_equal(x, np.array([[[0], [2], [4], [6], [8]],\n",
    "                                   [[1], [3], [5], [7], [9]]]))\n",
    "\n",
    "assert np.array_equal(y, np.array([[10], [11]]))"
   ]
  },
  {
   "cell_type": "code",
   "execution_count": 12,
   "metadata": {},
   "outputs": [
    {
     "output_type": "execute_result",
     "data": {
      "text/plain": [
       "(array([[[ 2],\n",
       "         [ 4],\n",
       "         [ 6],\n",
       "         [ 8],\n",
       "         [10]],\n",
       " \n",
       "        [[ 3],\n",
       "         [ 5],\n",
       "         [ 7],\n",
       "         [ 9],\n",
       "         [11]]]), array([[12],\n",
       "        [13]]))"
      ]
     },
     "metadata": {},
     "execution_count": 12
    }
   ],
   "source": [
    "data_gen[1]"
   ]
  },
  {
   "cell_type": "code",
   "execution_count": 1,
   "metadata": {},
   "outputs": [],
   "source": [
    "# 填充序列pad_sequeces\n",
    "from tensorflow.keras.preprocessing.sequence import pad_sequences"
   ]
  },
  {
   "cell_type": "code",
   "execution_count": null,
   "metadata": {},
   "outputs": [],
   "source": [
    "# pad_sequences(sequences, maxlen=None, dtype='int32'，padding='pre', truncating='pre', value=0)\n",
    "'''\n",
    "sequences:浮点数或整数构成的两层嵌套列表\n",
    "maxlen:None或整数，为序列的最大长度。大于此长度的序列将被截短，小于此长度的序列将在后面填0\n",
    "dtype：返回的numpy array的数据类型\n",
    "padding：’pre‘或‘post’，确定当需要补0时，在序列的起始还是结尾补\n",
    "truncating：‘pre’或‘post’，确定当需要截断序列时，是从起始还是结尾截断\n",
    "value：浮点数，此值将在填充时代替默认的填充值0\n",
    "'''"
   ]
  },
  {
   "source": [
    "# 文本预处理"
   ],
   "cell_type": "markdown",
   "metadata": {}
  },
  {
   "cell_type": "code",
   "execution_count": null,
   "metadata": {},
   "outputs": [],
   "source": []
  }
 ]
}