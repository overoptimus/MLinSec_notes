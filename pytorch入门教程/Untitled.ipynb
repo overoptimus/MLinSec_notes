{
 "cells": [
  {
   "cell_type": "code",
   "execution_count": 2,
   "metadata": {},
   "outputs": [],
   "source": [
    "import torch\n",
    "from torch import nn\n",
    "from torch.nn import functional as F"
   ]
  },
  {
   "cell_type": "code",
   "execution_count": 9,
   "metadata": {},
   "outputs": [],
   "source": [
    "class TextNet(nn.Module):\n",
    "    def __init__(self, vocab_size, seq_len, embedding_len, num_classes=2):\n",
    "        super(TextNet, self).__init__()\n",
    "        self.seq_len = seq_len\n",
    "        self.vocab_size= vocab_size\n",
    "        self.embedding_len = embedding_len\n",
    "        self.word_embeddings = nn.Embedding(vocab_size, embedding_len)\n",
    "        \n",
    "    def forward(self, x):\n",
    "        x = self.word_embeddings(x)\n",
    "        return x"
   ]
  },
  {
   "cell_type": "code",
   "execution_count": 11,
   "metadata": {},
   "outputs": [
    {
     "name": "stdout",
     "output_type": "stream",
     "text": [
      "tensor([[1, 2, 2, 4]])\n",
      "tensor([[[-1.1069,  0.1948],\n",
      "         [-0.8218,  0.0227],\n",
      "         [-0.8218,  0.0227],\n",
      "         [ 0.3907,  0.3755]]], grad_fn=<EmbeddingBackward>)\n",
      "torch.Size([1, 4, 2])\n",
      "tensor([[[-1.1069,  0.1948],\n",
      "         [-0.5894,  0.1793],\n",
      "         [-0.8218,  0.0227],\n",
      "         [ 0.3907,  0.3755]]], grad_fn=<EmbeddingBackward>)\n",
      "torch.Size([1, 4, 2])\n"
     ]
    }
   ],
   "source": [
    "model = TextNet(vocab_size=5000, seq_len=600, embedding_len=2)\n",
    "x = [[1,2,2,4]]\n",
    "input1 = torch.autograd.Variable(torch.LongTensor(x))\n",
    "print(input1)\n",
    "o = model(input1)\n",
    "print(o)\n",
    "print(o.size())\n",
    "\n",
    "x = [[1,3,2,4]]\n",
    "input2 = torch.autograd.Variable(torch.LongTensor(x))\n",
    "o = model(input2)\n",
    "print(o)\n",
    "print(o.size())"
   ]
  },
  {
   "cell_type": "code",
   "execution_count": null,
   "metadata": {},
   "outputs": [],
   "source": []
  }
 ],
 "metadata": {
  "kernelspec": {
   "display_name": "Python 3",
   "language": "python",
   "name": "python3"
  },
  "language_info": {
   "codemirror_mode": {
    "name": "ipython",
    "version": 3
   },
   "file_extension": ".py",
   "mimetype": "text/x-python",
   "name": "python",
   "nbconvert_exporter": "python",
   "pygments_lexer": "ipython3",
   "version": "3.7.2"
  }
 },
 "nbformat": 4,
 "nbformat_minor": 2
}
