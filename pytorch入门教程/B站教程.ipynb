{
 "cells": [
  {
   "cell_type": "code",
   "execution_count": 1,
   "metadata": {},
   "outputs": [],
   "source": [
    "import torch"
   ]
  },
  {
   "cell_type": "code",
   "execution_count": 2,
   "metadata": {},
   "outputs": [],
   "source": [
    "import pandas as pd\n",
    "import numpy as np\n",
    "import matplotlib.pyplot as plt"
   ]
  },
  {
   "cell_type": "code",
   "execution_count": 3,
   "metadata": {},
   "outputs": [],
   "source": [
    "data = pd.read_csv('./data/dataset/Income1.csv')"
   ]
  },
  {
   "cell_type": "code",
   "execution_count": 4,
   "metadata": {},
   "outputs": [
    {
     "data": {
      "text/plain": [
       "array([[10.        ],\n",
       "       [10.40133779],\n",
       "       [10.84280936],\n",
       "       [11.24414716],\n",
       "       [11.64548495],\n",
       "       [12.08695652],\n",
       "       [12.48829431],\n",
       "       [12.88963211],\n",
       "       [13.2909699 ],\n",
       "       [13.73244147],\n",
       "       [14.13377926],\n",
       "       [14.53511706],\n",
       "       [14.97658863],\n",
       "       [15.37792642],\n",
       "       [15.77926421],\n",
       "       [16.22073579],\n",
       "       [16.62207358],\n",
       "       [17.02341137],\n",
       "       [17.46488294],\n",
       "       [17.86622074],\n",
       "       [18.26755853],\n",
       "       [18.7090301 ],\n",
       "       [19.11036789],\n",
       "       [19.51170569],\n",
       "       [19.91304348],\n",
       "       [20.35451505],\n",
       "       [20.75585284],\n",
       "       [21.15719064],\n",
       "       [21.59866221],\n",
       "       [22.        ]])"
      ]
     },
     "execution_count": 4,
     "metadata": {},
     "output_type": "execute_result"
    }
   ],
   "source": [
    "data.Education.values.reshape(-1,1)"
   ]
  },
  {
   "cell_type": "code",
   "execution_count": 5,
   "metadata": {},
   "outputs": [
    {
     "data": {
      "text/plain": [
       "Text(0,0.5,'income')"
      ]
     },
     "execution_count": 5,
     "metadata": {},
     "output_type": "execute_result"
    },
    {
     "data": {
      "image/png": "[encoded data removed]",
      "text/plain": [
       "<Figure size 432x288 with 1 Axes>"
      ]
     },
     "metadata": {
      "needs_background": "light"
     },
     "output_type": "display_data"
    }
   ],
   "source": [
    "plt.scatter(data.Education, data.Income)\n",
    "#如果在IDE中需要添加plt.show()\n",
    "plt.xlabel('education')\n",
    "plt.ylabel('income')"
   ]
  },
  {
   "cell_type": "code",
   "execution_count": 74,
   "metadata": {},
   "outputs": [],
   "source": [
    "from torch import nn\n",
    "#nn是pytorch是核心api\n",
    "#首先预处理数据\n",
    "x = data.Education.values.reshape(-1,1).astype(np.float32) \n",
    "y = data.Income.values.reshape(-1, 1).astype(np.float32)"
   ]
  },
  {
   "cell_type": "code",
   "execution_count": 75,
   "metadata": {},
   "outputs": [],
   "source": [
    "x = torch.from_numpy(x)\n",
    "y = torch.from_numpy(y)"
   ]
  },
  {
   "cell_type": "code",
   "execution_count": 76,
   "metadata": {},
   "outputs": [
    {
     "data": {
      "text/plain": [
       "tensor([[10.0000],\n",
       "        [10.4013],\n",
       "        [10.8428],\n",
       "        [11.2441],\n",
       "        [11.6455],\n",
       "        [12.0870],\n",
       "        [12.4883],\n",
       "        [12.8896],\n",
       "        [13.2910],\n",
       "        [13.7324],\n",
       "        [14.1338],\n",
       "        [14.5351],\n",
       "        [14.9766],\n",
       "        [15.3779],\n",
       "        [15.7793],\n",
       "        [16.2207],\n",
       "        [16.6221],\n",
       "        [17.0234],\n",
       "        [17.4649],\n",
       "        [17.8662],\n",
       "        [18.2676],\n",
       "        [18.7090],\n",
       "        [19.1104],\n",
       "        [19.5117],\n",
       "        [19.9130],\n",
       "        [20.3545],\n",
       "        [20.7559],\n",
       "        [21.1572],\n",
       "        [21.5987],\n",
       "        [22.0000]])"
      ]
     },
     "execution_count": 76,
     "metadata": {},
     "output_type": "execute_result"
    }
   ],
   "source": [
    "x"
   ]
  },
  {
   "cell_type": "code",
   "execution_count": 77,
   "metadata": {},
   "outputs": [
    {
     "data": {
      "text/plain": [
       "tensor([[26.6588],\n",
       "        [27.3064],\n",
       "        [22.1324],\n",
       "        [21.1698],\n",
       "        [15.1926],\n",
       "        [26.3990],\n",
       "        [17.4353],\n",
       "        [25.5079],\n",
       "        [36.8846],\n",
       "        [39.6661],\n",
       "        [34.3963],\n",
       "        [41.4980],\n",
       "        [44.9816],\n",
       "        [47.0396],\n",
       "        [48.2526],\n",
       "        [57.0343],\n",
       "        [51.4909],\n",
       "        [61.3366],\n",
       "        [57.5820],\n",
       "        [68.5537],\n",
       "        [64.3109],\n",
       "        [68.9590],\n",
       "        [74.6146],\n",
       "        [71.8672],\n",
       "        [76.0981],\n",
       "        [75.7752],\n",
       "        [72.4861],\n",
       "        [77.3550],\n",
       "        [72.1188],\n",
       "        [80.2606]])"
      ]
     },
     "execution_count": 77,
     "metadata": {},
     "output_type": "execute_result"
    }
   ],
   "source": [
    "y"
   ]
  },
  {
   "cell_type": "code",
   "execution_count": 78,
   "metadata": {},
   "outputs": [],
   "source": [
    "model = nn.Linear(1, 1) # out = w*input+b"
   ]
  },
  {
   "cell_type": "code",
   "execution_count": 79,
   "metadata": {},
   "outputs": [
    {
     "data": {
      "text/plain": [
       "Parameter containing:\n",
       "tensor([0.0460], requires_grad=True)"
      ]
     },
     "execution_count": 79,
     "metadata": {},
     "output_type": "execute_result"
    }
   ],
   "source": [
    "model.bias"
   ]
  },
  {
   "cell_type": "code",
   "execution_count": 80,
   "metadata": {},
   "outputs": [],
   "source": [
    "loss_function = nn.MSELoss()  #得到损失函数计算方法"
   ]
  },
  {
   "cell_type": "code",
   "execution_count": 81,
   "metadata": {},
   "outputs": [],
   "source": [
    "optimize = torch.optim.SGD(model.parameters(), lr=0.0001)"
   ]
  },
  {
   "cell_type": "code",
   "execution_count": 82,
   "metadata": {},
   "outputs": [],
   "source": [
    "for epoch in range(5000):\n",
    "    for i, j in zip(x, y):\n",
    "        y_pred = model(i) #使用模型预测\n",
    "        loss = loss_function(j, y_pred)  #计算损失\n",
    "        optimize.zero_grad()     #把变量梯度清0\n",
    "        loss.backward()   # 求解梯度\n",
    "        optimize.step()   #优化过程\n",
    "        # print(model.bias)"
   ]
  },
  {
   "cell_type": "code",
   "execution_count": 84,
   "metadata": {},
   "outputs": [
    {
     "name": "stdout",
     "output_type": "stream",
     "text": [
      "Parameter containing:\n",
      "tensor([[4.9744]], requires_grad=True)\n",
      "Parameter containing:\n",
      "tensor([-28.3672], requires_grad=True)\n"
     ]
    }
   ],
   "source": [
    "print(model.weight)\n",
    "print(model.bias)"
   ]
  },
  {
   "cell_type": "code",
   "execution_count": 16,
   "metadata": {
    "scrolled": true
   },
   "outputs": [
    {
     "data": {
      "text/plain": [
       "Text(0,0.5,'income')"
      ]
     },
     "execution_count": 16,
     "metadata": {},
     "output_type": "execute_result"
    },
    {
     "data": {
      "image/png": "[encoded data removed]",
      "text/plain": [
       "<Figure size 432x288 with 1 Axes>"
      ]
     },
     "metadata": {
      "needs_background": "light"
     },
     "output_type": "display_data"
    }
   ],
   "source": [
    "plt.scatter(data.Education, data.Income)\n",
    "plt.plot(x.numpy(), model(x).data.numpy(), color='r')\n",
    "plt.xlabel('education')\n",
    "plt.ylabel('income')"
   ]
  },
  {
   "cell_type": "code",
   "execution_count": 18,
   "metadata": {},
   "outputs": [],
   "source": [
    "#创建张量\n",
    "x = torch.rand(2, 3)#均匀分布"
   ]
  },
  {
   "cell_type": "code",
   "execution_count": 19,
   "metadata": {},
   "outputs": [
    {
     "data": {
      "text/plain": [
       "torch.Size([2, 3])"
      ]
     },
     "execution_count": 19,
     "metadata": {},
     "output_type": "execute_result"
    }
   ],
   "source": [
    "x = torch.randn(2, 3)#正太分布\n",
    "x = torch.zeros(2, 3)#全零\n",
    "x = torch.ones(2, 3)#全1\n",
    "x.size()#返回形状\n",
    "x.size(0)#返回第0个维度的长度 \n",
    "x.shape"
   ]
  },
  {
   "cell_type": "code",
   "execution_count": 20,
   "metadata": {},
   "outputs": [
    {
     "data": {
      "text/plain": [
       "tensor([6, 2], dtype=torch.int32)"
      ]
     },
     "execution_count": 20,
     "metadata": {},
     "output_type": "execute_result"
    }
   ],
   "source": [
    "#tensor数据类型的转换\n",
    "x = torch.tensor([6, 2], dtype=torch.float32)\n",
    "x.type()\n",
    "x.type(torch.int32)#通过type方法,不传参数，返回当前的类型，加入参数，转换成传入参数表示的类型"
   ]
  },
  {
   "cell_type": "code",
   "execution_count": 21,
   "metadata": {},
   "outputs": [
    {
     "name": "stdout",
     "output_type": "stream",
     "text": [
      "tensor([[-0.4247,  1.1435, -0.9162],\n",
      "        [ 0.4766, -0.5455, -0.1478]], dtype=torch.float64)\n",
      "[[-0.42466313  1.14351381 -0.91615552]\n",
      " [ 0.47662559 -0.54551266 -0.14777922]]\n"
     ]
    }
   ],
   "source": [
    "#tensor与ndarray数据类型之间的转换\n",
    "x = np.random.randn(2, 3)\n",
    "x1 = torch.from_numpy(x)\n",
    "x2 = x1.numpy()\n",
    "print(x1)\n",
    "print(x2)"
   ]
  },
  {
   "cell_type": "code",
   "execution_count": 22,
   "metadata": {},
   "outputs": [
    {
     "name": "stdout",
     "output_type": "stream",
     "text": [
      "tensor([[ 0.5243,  1.7043,  0.6215],\n",
      "        [-0.0941, -0.1075, -1.2008]]) \n",
      " tensor([[0.7202, 0.6538, 0.5032],\n",
      "        [0.0749, 0.0735, 0.8141]])\n"
     ]
    }
   ],
   "source": [
    "#tensor的运算，与numpy的ndarray的运算想同\n",
    "x1 = torch.randn(2, 3)\n",
    "x2 = torch.rand(2, 3)\n",
    "print(x1, '\\n', x2)"
   ]
  },
  {
   "cell_type": "code",
   "execution_count": 23,
   "metadata": {},
   "outputs": [
    {
     "data": {
      "text/plain": [
       "tensor([[3.5243, 4.7043, 3.6215],\n",
       "        [2.9059, 2.8925, 1.7992]])"
      ]
     },
     "execution_count": 23,
     "metadata": {},
     "output_type": "execute_result"
    }
   ],
   "source": [
    "x1 + x2 #相加,x1和x2都没有改变\n",
    "x1 + 3  #各个元素加3\n",
    "x1.add(3)#x1还是没有改变\n",
    "x1.add_(3)#会直接改变x1"
   ]
  },
  {
   "cell_type": "code",
   "execution_count": 24,
   "metadata": {},
   "outputs": [
    {
     "name": "stdout",
     "output_type": "stream",
     "text": [
      "tensor([[3.5243, 4.7043],\n",
      "        [3.6215, 2.9059],\n",
      "        [2.8925, 1.7992]])\n",
      "tensor([[3.5243, 4.7043],\n",
      "        [3.6215, 2.9059],\n",
      "        [2.8925, 1.7992]])\n",
      "tensor([[3.5243],\n",
      "        [4.7043],\n",
      "        [3.6215],\n",
      "        [2.9059],\n",
      "        [2.8925],\n",
      "        [1.7992]])\n"
     ]
    }
   ],
   "source": [
    "#x1的变形\n",
    "# tensor的view相当于numpy的reshape,同时tensor也有reshape的方法，\n",
    "print(x1.view(3, 2))\n",
    "print(x1.reshape(3, 2))\n",
    "print(x1.view(-1, 1))#一般是用来展平"
   ]
  },
  {
   "cell_type": "code",
   "execution_count": 25,
   "metadata": {},
   "outputs": [
    {
     "data": {
      "text/plain": [
       "tensor(3.2413)"
      ]
     },
     "execution_count": 25,
     "metadata": {},
     "output_type": "execute_result"
    }
   ],
   "source": [
    "#求x1的均值\n",
    "x1.mean()"
   ]
  },
  {
   "cell_type": "code",
   "execution_count": 26,
   "metadata": {},
   "outputs": [],
   "source": [
    "x = x1.sum()"
   ]
  },
  {
   "cell_type": "code",
   "execution_count": 27,
   "metadata": {},
   "outputs": [
    {
     "data": {
      "text/plain": [
       "tensor(19.4477)"
      ]
     },
     "execution_count": 27,
     "metadata": {},
     "output_type": "execute_result"
    }
   ],
   "source": [
    "x"
   ]
  },
  {
   "cell_type": "code",
   "execution_count": 28,
   "metadata": {},
   "outputs": [
    {
     "data": {
      "text/plain": [
       "19.44774055480957"
      ]
     },
     "execution_count": 28,
     "metadata": {},
     "output_type": "execute_result"
    }
   ],
   "source": [
    "x.item()#如果x中只有一个数的话，可以直接通过item转换成一个标量输出"
   ]
  },
  {
   "cell_type": "code",
   "execution_count": 29,
   "metadata": {},
   "outputs": [],
   "source": [
    "#张量的自动微分\n",
    "#将Torch.Tensor属性.requires_grad设置为True，pytorch将开始跟踪此张量的所有操作。完成计算后，可以调用.backward()并自动计算所有梯度。\n",
    "#该张量的梯度将累加到.grad属性中。"
   ]
  },
  {
   "cell_type": "code",
   "execution_count": 30,
   "metadata": {},
   "outputs": [],
   "source": [
    "x = torch.ones(2, 2, requires_grad=True)"
   ]
  },
  {
   "cell_type": "code",
   "execution_count": 31,
   "metadata": {},
   "outputs": [
    {
     "data": {
      "text/plain": [
       "tensor([[1., 1.],\n",
       "        [1., 1.]], requires_grad=True)"
      ]
     },
     "execution_count": 31,
     "metadata": {},
     "output_type": "execute_result"
    }
   ],
   "source": [
    "x"
   ]
  },
  {
   "cell_type": "code",
   "execution_count": 32,
   "metadata": {},
   "outputs": [
    {
     "data": {
      "text/plain": [
       "True"
      ]
     },
     "execution_count": 32,
     "metadata": {},
     "output_type": "execute_result"
    }
   ],
   "source": [
    "x.requires_grad"
   ]
  },
  {
   "cell_type": "code",
   "execution_count": 33,
   "metadata": {},
   "outputs": [],
   "source": [
    "y = x + 2"
   ]
  },
  {
   "cell_type": "code",
   "execution_count": 34,
   "metadata": {},
   "outputs": [
    {
     "data": {
      "text/plain": [
       "tensor([[3., 3.],\n",
       "        [3., 3.]], grad_fn=<AddBackward0>)"
      ]
     },
     "execution_count": 34,
     "metadata": {},
     "output_type": "execute_result"
    }
   ],
   "source": [
    "y"
   ]
  },
  {
   "cell_type": "code",
   "execution_count": 39,
   "metadata": {},
   "outputs": [],
   "source": [
    "z = y.mean()"
   ]
  },
  {
   "cell_type": "code",
   "execution_count": 40,
   "metadata": {},
   "outputs": [],
   "source": [
    "z.backward()"
   ]
  },
  {
   "cell_type": "code",
   "execution_count": 41,
   "metadata": {},
   "outputs": [],
   "source": [
    "z = y.mean()"
   ]
  },
  {
   "cell_type": "code",
   "execution_count": 42,
   "metadata": {},
   "outputs": [
    {
     "data": {
      "text/plain": [
       "tensor(3., grad_fn=<MeanBackward0>)"
      ]
     },
     "execution_count": 42,
     "metadata": {},
     "output_type": "execute_result"
    }
   ],
   "source": [
    "z"
   ]
  },
  {
   "cell_type": "code",
   "execution_count": 43,
   "metadata": {},
   "outputs": [],
   "source": [
    "z.backward()# 相当于计算dz/dx"
   ]
  },
  {
   "cell_type": "code",
   "execution_count": 44,
   "metadata": {},
   "outputs": [
    {
     "data": {
      "text/plain": [
       "tensor([[0.5000, 0.5000],\n",
       "        [0.5000, 0.5000]])"
      ]
     },
     "execution_count": 44,
     "metadata": {},
     "output_type": "execute_result"
    }
   ],
   "source": [
    "x.grad"
   ]
  },
  {
   "cell_type": "code",
   "execution_count": 45,
   "metadata": {},
   "outputs": [
    {
     "name": "stdout",
     "output_type": "stream",
     "text": [
      "False\n"
     ]
    }
   ],
   "source": [
    "with torch.no_grad():#平常，我们在测试的时候，经常会把运算包含在no_grad()当中，因为我们只是测试，不需要跟踪梯度\n",
    "    print((x**2).requires_grad)"
   ]
  },
  {
   "cell_type": "code",
   "execution_count": 46,
   "metadata": {},
   "outputs": [
    {
     "data": {
      "text/plain": [
       "True"
      ]
     },
     "execution_count": 46,
     "metadata": {},
     "output_type": "execute_result"
    }
   ],
   "source": [
    "(x**2).requires_grad"
   ]
  },
  {
   "cell_type": "code",
   "execution_count": 47,
   "metadata": {},
   "outputs": [
    {
     "data": {
      "text/plain": [
       "False"
      ]
     },
     "execution_count": 47,
     "metadata": {},
     "output_type": "execute_result"
    }
   ],
   "source": [
    "y = x.detach()#这个方法相当于no_grad()方法，也是将x的requires_grad设置为false。\n",
    "y.requires_grad#记住，torch中的操作一般都不是原地的，都是将更改后的东西，返回出来，必须拿个变量接受\n",
    "#原地改变一般都是方法名后加下划线"
   ]
  },
  {
   "cell_type": "code",
   "execution_count": 48,
   "metadata": {},
   "outputs": [],
   "source": [
    "x = torch.tensor([2, 3], dtype=torch.float32)"
   ]
  },
  {
   "cell_type": "code",
   "execution_count": 49,
   "metadata": {},
   "outputs": [
    {
     "data": {
      "text/plain": [
       "tensor([2., 3.])"
      ]
     },
     "execution_count": 49,
     "metadata": {},
     "output_type": "execute_result"
    }
   ],
   "source": [
    "x"
   ]
  },
  {
   "cell_type": "code",
   "execution_count": 50,
   "metadata": {},
   "outputs": [
    {
     "data": {
      "text/plain": [
       "tensor([2., 3.], requires_grad=True)"
      ]
     },
     "execution_count": 50,
     "metadata": {},
     "output_type": "execute_result"
    }
   ],
   "source": [
    "x.requires_grad_(True)"
   ]
  },
  {
   "cell_type": "code",
   "execution_count": 51,
   "metadata": {},
   "outputs": [],
   "source": [
    "#对上面的线性模型预测收入，分解写出，理解过程\n",
    "X = torch.from_numpy(data.Education.values.reshape(-1, 1).astype(np.float32))\n",
    "Y = torch.from_numpy(data.Income.values.reshape(-1, 1).astype(np.float32))"
   ]
  },
  {
   "cell_type": "code",
   "execution_count": 63,
   "metadata": {},
   "outputs": [
    {
     "name": "stdout",
     "output_type": "stream",
     "text": [
      "<class 'torch.Tensor'>\n"
     ]
    }
   ],
   "source": [
    "w = torch.randn(1, requires_grad=True)\n",
    "b = torch.zeros(1, requires_grad=True)\n",
    "print(type(w))"
   ]
  },
  {
   "cell_type": "markdown",
   "metadata": {},
   "source": [
    "模型公式: w*x+b"
   ]
  },
  {
   "cell_type": "code",
   "execution_count": 96,
   "metadata": {},
   "outputs": [],
   "source": [
    "learning_rate = 00.0001\n",
    "for epoch in range(5000):\n",
    "    for x,y in zip(X, Y):\n",
    "        y_pred = torch.matmul(x, w) + b\n",
    "        loss = (y - y_pred).pow(2).mean()\n",
    "        if not w.grad is None:\n",
    "            w.grad.data.zero_()\n",
    "        if not b.grad is None:\n",
    "            b.grad.data.zero_()\n",
    "        loss.backward()\n",
    "        with torch.no_grad():\n",
    "            w.data -= learning_rate * w.grad.data\n",
    "            b.data -= learning_rate * b.grad.data"
   ]
  },
  {
   "cell_type": "code",
   "execution_count": 86,
   "metadata": {},
   "outputs": [
    {
     "data": {
      "text/plain": [
       "tensor([4.9729], requires_grad=True)"
      ]
     },
     "execution_count": 86,
     "metadata": {},
     "output_type": "execute_result"
    }
   ],
   "source": [
    "w"
   ]
  },
  {
   "cell_type": "code",
   "execution_count": 87,
   "metadata": {},
   "outputs": [
    {
     "data": {
      "text/plain": [
       "tensor([-28.3396], requires_grad=True)"
      ]
     },
     "execution_count": 87,
     "metadata": {},
     "output_type": "execute_result"
    }
   ],
   "source": [
    "b\n"
   ]
  },
  {
   "cell_type": "code",
   "execution_count": 95,
   "metadata": {},
   "outputs": [
    {
     "data": {
      "text/plain": [
       "[<matplotlib.lines.Line2D at 0x7fa3a5742a20>]"
      ]
     },
     "execution_count": 95,
     "metadata": {},
     "output_type": "execute_result"
    },
    {
     "data": {
      "image/png": "[encoded data removed]",
      "text/plain": [
       "<Figure size 432x288 with 1 Axes>"
      ]
     },
     "metadata": {
      "needs_background": "light"
     },
     "output_type": "display_data"
    }
   ],
   "source": [
    "plt.scatter(data.Education, data.Income)\n",
    "#X.numpy()\n",
    "plt.plot(X.detach().numpy(), [w.data*x+b.data for x in X.detach().numpy()], color='r')"
   ]
  },
  {
   "cell_type": "markdown",
   "metadata": {},
   "source": [
    "# 逻辑回归的实现"
   ]
  },
  {
   "cell_type": "code",
   "execution_count": 97,
   "metadata": {},
   "outputs": [
    {
     "data": {
      "text/plain": [
       "'\\n线性回归预测的是连续值，罗辑回归给出的“是”和“否”的回答\\nsigmoid函数\\n'"
      ]
     },
     "execution_count": 97,
     "metadata": {},
     "output_type": "execute_result"
    }
   ],
   "source": [
    "'''\n",
    "线性回归预测的是连续值，罗辑回归给出的“是”和“否”的回答\n",
    "sigmoid函数\n",
    "'''"
   ]
  },
  {
   "attachments": {
    "image.png": {
     "image/png": "[encoded data removed]"
    }
   },
   "cell_type": "markdown",
   "metadata": {},
   "source": [
    "# 逻辑回归损害函数\n",
    "平方差所惩罚的是与损失为同一数量级的情形，对于分类问题，我们最好的使用交叉熵损失函数会更有效。\n",
    "交叉熵会输出一个更大的“损失”\n",
    "交叉熵刻画的是实际输出（概率）与期望输出（概率）的距离，也就是交叉熵的值越小，两个概率分布就越接近。假设概率分布p为期望输出，概率分布q为实际输出，H(p,q)为交叉熵，则：![image.png](attachment:image.png)\n",
    "在pytorch中，我们使用nn.BCELoss()来计算二元交叉熵损失"
   ]
  },
  {
   "cell_type": "code",
   "execution_count": 102,
   "metadata": {},
   "outputs": [],
   "source": [
    "data = pd.read_csv('./data/dataset/credit-a.csv', header=None)"
   ]
  },
  {
   "cell_type": "code",
   "execution_count": 104,
   "metadata": {},
   "outputs": [
    {
     "name": "stdout",
     "output_type": "stream",
     "text": [
      "<class 'pandas.core.frame.DataFrame'>\n",
      "RangeIndex: 653 entries, 0 to 652\n",
      "Data columns (total 16 columns):\n",
      "0     653 non-null int64\n",
      "1     653 non-null float64\n",
      "2     653 non-null float64\n",
      "3     653 non-null int64\n",
      "4     653 non-null int64\n",
      "5     653 non-null int64\n",
      "6     653 non-null int64\n",
      "7     653 non-null float64\n",
      "8     653 non-null int64\n",
      "9     653 non-null int64\n",
      "10    653 non-null int64\n",
      "11    653 non-null int64\n",
      "12    653 non-null int64\n",
      "13    653 non-null int64\n",
      "14    653 non-null float64\n",
      "15    653 non-null int64\n",
      "dtypes: float64(4), int64(12)\n",
      "memory usage: 81.7 KB\n"
     ]
    }
   ],
   "source": [
    "data.info()"
   ]
  },
  {
   "cell_type": "code",
   "execution_count": 105,
   "metadata": {},
   "outputs": [
    {
     "data": {
      "text/html": [
       "<div>\n",
       "<style scoped>\n",
       "    .dataframe tbody tr th:only-of-type {\n",
       "        vertical-align: middle;\n",
       "    }\n",
       "\n",
       "    .dataframe tbody tr th {\n",
       "        vertical-align: top;\n",
       "    }\n",
       "\n",
       "    .dataframe thead th {\n",
       "        text-align: right;\n",
       "    }\n",
       "</style>\n",
       "<table border=\"1\" class=\"dataframe\">\n",
       "  <thead>\n",
       "    <tr style=\"text-align: right;\">\n",
       "      <th></th>\n",
       "      <th>0</th>\n",
       "      <th>1</th>\n",
       "      <th>2</th>\n",
       "      <th>3</th>\n",
       "      <th>4</th>\n",
       "      <th>5</th>\n",
       "      <th>6</th>\n",
       "      <th>7</th>\n",
       "      <th>8</th>\n",
       "      <th>9</th>\n",
       "      <th>10</th>\n",
       "      <th>11</th>\n",
       "      <th>12</th>\n",
       "      <th>13</th>\n",
       "      <th>14</th>\n",
       "      <th>15</th>\n",
       "    </tr>\n",
       "  </thead>\n",
       "  <tbody>\n",
       "    <tr>\n",
       "      <th>0</th>\n",
       "      <td>0</td>\n",
       "      <td>30.83</td>\n",
       "      <td>0.000</td>\n",
       "      <td>0</td>\n",
       "      <td>0</td>\n",
       "      <td>9</td>\n",
       "      <td>0</td>\n",
       "      <td>1.25</td>\n",
       "      <td>0</td>\n",
       "      <td>0</td>\n",
       "      <td>1</td>\n",
       "      <td>1</td>\n",
       "      <td>0</td>\n",
       "      <td>202</td>\n",
       "      <td>0.0</td>\n",
       "      <td>-1</td>\n",
       "    </tr>\n",
       "    <tr>\n",
       "      <th>1</th>\n",
       "      <td>1</td>\n",
       "      <td>58.67</td>\n",
       "      <td>4.460</td>\n",
       "      <td>0</td>\n",
       "      <td>0</td>\n",
       "      <td>8</td>\n",
       "      <td>1</td>\n",
       "      <td>3.04</td>\n",
       "      <td>0</td>\n",
       "      <td>0</td>\n",
       "      <td>6</td>\n",
       "      <td>1</td>\n",
       "      <td>0</td>\n",
       "      <td>43</td>\n",
       "      <td>560.0</td>\n",
       "      <td>-1</td>\n",
       "    </tr>\n",
       "    <tr>\n",
       "      <th>2</th>\n",
       "      <td>1</td>\n",
       "      <td>24.50</td>\n",
       "      <td>0.500</td>\n",
       "      <td>0</td>\n",
       "      <td>0</td>\n",
       "      <td>8</td>\n",
       "      <td>1</td>\n",
       "      <td>1.50</td>\n",
       "      <td>0</td>\n",
       "      <td>1</td>\n",
       "      <td>0</td>\n",
       "      <td>1</td>\n",
       "      <td>0</td>\n",
       "      <td>280</td>\n",
       "      <td>824.0</td>\n",
       "      <td>-1</td>\n",
       "    </tr>\n",
       "    <tr>\n",
       "      <th>3</th>\n",
       "      <td>0</td>\n",
       "      <td>27.83</td>\n",
       "      <td>1.540</td>\n",
       "      <td>0</td>\n",
       "      <td>0</td>\n",
       "      <td>9</td>\n",
       "      <td>0</td>\n",
       "      <td>3.75</td>\n",
       "      <td>0</td>\n",
       "      <td>0</td>\n",
       "      <td>5</td>\n",
       "      <td>0</td>\n",
       "      <td>0</td>\n",
       "      <td>100</td>\n",
       "      <td>3.0</td>\n",
       "      <td>-1</td>\n",
       "    </tr>\n",
       "    <tr>\n",
       "      <th>4</th>\n",
       "      <td>0</td>\n",
       "      <td>20.17</td>\n",
       "      <td>5.625</td>\n",
       "      <td>0</td>\n",
       "      <td>0</td>\n",
       "      <td>9</td>\n",
       "      <td>0</td>\n",
       "      <td>1.71</td>\n",
       "      <td>0</td>\n",
       "      <td>1</td>\n",
       "      <td>0</td>\n",
       "      <td>1</td>\n",
       "      <td>2</td>\n",
       "      <td>120</td>\n",
       "      <td>0.0</td>\n",
       "      <td>-1</td>\n",
       "    </tr>\n",
       "  </tbody>\n",
       "</table>\n",
       "</div>"
      ],
      "text/plain": [
       "   0      1      2   3   4   5   6     7   8   9   10  11  12   13     14  15\n",
       "0   0  30.83  0.000   0   0   9   0  1.25   0   0   1   1   0  202    0.0  -1\n",
       "1   1  58.67  4.460   0   0   8   1  3.04   0   0   6   1   0   43  560.0  -1\n",
       "2   1  24.50  0.500   0   0   8   1  1.50   0   1   0   1   0  280  824.0  -1\n",
       "3   0  27.83  1.540   0   0   9   0  3.75   0   0   5   0   0  100    3.0  -1\n",
       "4   0  20.17  5.625   0   0   9   0  1.71   0   1   0   1   2  120    0.0  -1"
      ]
     },
     "execution_count": 105,
     "metadata": {},
     "output_type": "execute_result"
    }
   ],
   "source": [
    "data.head()"
   ]
  },
  {
   "cell_type": "code",
   "execution_count": 119,
   "metadata": {},
   "outputs": [],
   "source": [
    "X = data.iloc[:, :-1]"
   ]
  },
  {
   "cell_type": "code",
   "execution_count": 120,
   "metadata": {},
   "outputs": [],
   "source": [
    "Y = data.iloc[:, -1].replace(-1, 0)"
   ]
  },
  {
   "cell_type": "code",
   "execution_count": 121,
   "metadata": {},
   "outputs": [
    {
     "data": {
      "text/plain": [
       "array([0, 1])"
      ]
     },
     "execution_count": 121,
     "metadata": {},
     "output_type": "execute_result"
    }
   ],
   "source": [
    "Y.unique()"
   ]
  },
  {
   "cell_type": "code",
   "execution_count": 122,
   "metadata": {},
   "outputs": [],
   "source": [
    "X = torch.from_numpy(X.values).type(torch.float32)"
   ]
  },
  {
   "cell_type": "code",
   "execution_count": 126,
   "metadata": {},
   "outputs": [
    {
     "name": "stdout",
     "output_type": "stream",
     "text": [
      "torch.Size([653, 15])\n"
     ]
    }
   ],
   "source": [
    "Y.shape\n",
    "print(X.shape)"
   ]
  },
  {
   "cell_type": "code",
   "execution_count": 124,
   "metadata": {},
   "outputs": [],
   "source": [
    "Y = torch.from_numpy(Y.values.reshape(-1, 1)).type(torch.float32)"
   ]
  },
  {
   "cell_type": "code",
   "execution_count": 127,
   "metadata": {},
   "outputs": [
    {
     "data": {
      "text/plain": [
       "torch.Size([653, 1])"
      ]
     },
     "execution_count": 127,
     "metadata": {},
     "output_type": "execute_result"
    }
   ],
   "source": [
    "Y.shape"
   ]
  },
  {
   "cell_type": "code",
   "execution_count": 128,
   "metadata": {},
   "outputs": [],
   "source": [
    "model = nn.Sequential(\n",
    "            nn.Linear(15, 1),\n",
    "            nn.Sigmoid()\n",
    ")\n"
   ]
  },
  {
   "cell_type": "code",
   "execution_count": 129,
   "metadata": {},
   "outputs": [
    {
     "data": {
      "text/plain": [
       "Sequential(\n",
       "  (0): Linear(in_features=15, out_features=1, bias=True)\n",
       "  (1): Sigmoid()\n",
       ")"
      ]
     },
     "execution_count": 129,
     "metadata": {},
     "output_type": "execute_result"
    }
   ],
   "source": [
    "model"
   ]
  },
  {
   "cell_type": "code",
   "execution_count": 130,
   "metadata": {},
   "outputs": [],
   "source": [
    "loss_func = nn.BCELoss()"
   ]
  },
  {
   "cell_type": "code",
   "execution_count": 132,
   "metadata": {},
   "outputs": [],
   "source": [
    "optimize = torch.optim.Adam(model.parameters(), lr=0.0001)"
   ]
  },
  {
   "cell_type": "code",
   "execution_count": 136,
   "metadata": {},
   "outputs": [
    {
     "name": "stdout",
     "output_type": "stream",
     "text": [
      "40\n"
     ]
    }
   ],
   "source": [
    "batchs = 16\n",
    "no_of_batch = 653//16\n",
    "print(no_of_batch)"
   ]
  },
  {
   "cell_type": "code",
   "execution_count": 150,
   "metadata": {},
   "outputs": [],
   "source": [
    "epoches = 1500"
   ]
  },
  {
   "cell_type": "code",
   "execution_count": 151,
   "metadata": {},
   "outputs": [],
   "source": [
    "for epoch in range(epoches):\n",
    "    for batch in range(no_of_batch):\n",
    "        start = batch * batchs\n",
    "        end = start + batchs\n",
    "        x = X[start: end]\n",
    "        y = Y[start: end]\n",
    "        y_pred = model(x)\n",
    "        loss = loss_func(y_pred, y)\n",
    "        optimize.zero_grad()\n",
    "        loss.backward()\n",
    "        optimize.step()"
   ]
  },
  {
   "cell_type": "code",
   "execution_count": 152,
   "metadata": {},
   "outputs": [
    {
     "data": {
      "text/plain": [
       "OrderedDict([('0.weight',\n",
       "              tensor([[-1.3985e-01, -9.1110e-03,  5.7952e-03,  3.2813e-01,  7.9674e-02,\n",
       "                       -1.4772e-02,  1.6944e-01, -1.3486e-01,  3.0857e+00,  2.8026e-01,\n",
       "                       -1.6148e-01, -2.0397e-01, -5.1545e-02,  8.7634e-04, -3.3191e-04]])),\n",
       "             ('0.bias', tensor([-0.2113]))])"
      ]
     },
     "execution_count": 152,
     "metadata": {},
     "output_type": "execute_result"
    }
   ],
   "source": [
    "model.state_dict()"
   ]
  },
  {
   "cell_type": "code",
   "execution_count": 153,
   "metadata": {},
   "outputs": [
    {
     "data": {
      "text/plain": [
       "0.8744257274119449"
      ]
     },
     "execution_count": 153,
     "metadata": {},
     "output_type": "execute_result"
    }
   ],
   "source": [
    "((model(X).data.numpy() > 0.5).astype('int') == Y.numpy()).mean()"
   ]
  },
  {
   "cell_type": "markdown",
   "metadata": {},
   "source": [
    "# 多层感知器（神经网络）\n",
    "上节我们学习的逻辑回归模型是单个神经元，计算输入特征的加权和，然后使用一个激活函数（或传递函数）计算输出\n",
    "多种激活函数：\n",
    "    1. relu\n",
    "    2. sigmoid\n",
    "    3. leak relu\n",
    "    4. tanh"
   ]
  },
  {
   "cell_type": "code",
   "execution_count": 189,
   "metadata": {},
   "outputs": [
    {
     "name": "stdout",
     "output_type": "stream",
     "text": [
      "<class 'pandas.core.frame.DataFrame'>\n",
      "RangeIndex: 14999 entries, 0 to 14998\n",
      "Data columns (total 10 columns):\n",
      "satisfaction_level       14999 non-null float64\n",
      "last_evaluation          14999 non-null float64\n",
      "number_project           14999 non-null int64\n",
      "average_montly_hours     14999 non-null int64\n",
      "time_spend_company       14999 non-null int64\n",
      "Work_accident            14999 non-null int64\n",
      "left                     14999 non-null int64\n",
      "promotion_last_5years    14999 non-null int64\n",
      "part                     14999 non-null object\n",
      "salary                   14999 non-null object\n",
      "dtypes: float64(2), int64(6), object(2)\n",
      "memory usage: 1.1+ MB\n"
     ]
    }
   ],
   "source": [
    "data = pd.read_csv('./data/dataset/HR.csv')\n",
    "data.info()"
   ]
  },
  {
   "cell_type": "code",
   "execution_count": 190,
   "metadata": {},
   "outputs": [
    {
     "data": {
      "text/plain": [
       "array(['sales', 'accounting', 'hr', 'technical', 'support', 'management',\n",
       "       'IT', 'product_mng', 'marketing', 'RandD'], dtype=object)"
      ]
     },
     "execution_count": 190,
     "metadata": {},
     "output_type": "execute_result"
    }
   ],
   "source": [
    "data.part.unique()"
   ]
  },
  {
   "cell_type": "code",
   "execution_count": 191,
   "metadata": {},
   "outputs": [
    {
     "data": {
      "text/plain": [
       "array(['low', 'medium', 'high'], dtype=object)"
      ]
     },
     "execution_count": 191,
     "metadata": {},
     "output_type": "execute_result"
    }
   ],
   "source": [
    "data.salary.unique()"
   ]
  },
  {
   "cell_type": "code",
   "execution_count": 192,
   "metadata": {},
   "outputs": [
    {
     "data": {
      "text/plain": [
       "salary  part       \n",
       "high    IT               83\n",
       "        RandD            51\n",
       "        accounting       74\n",
       "        hr               45\n",
       "        management      225\n",
       "        marketing        80\n",
       "        product_mng      68\n",
       "        sales           269\n",
       "        support         141\n",
       "        technical       201\n",
       "low     IT              609\n",
       "        RandD           364\n",
       "        accounting      358\n",
       "        hr              335\n",
       "        management      180\n",
       "        marketing       402\n",
       "        product_mng     451\n",
       "        sales          2099\n",
       "        support        1146\n",
       "        technical      1372\n",
       "medium  IT              535\n",
       "        RandD           372\n",
       "        accounting      335\n",
       "        hr              359\n",
       "        management      225\n",
       "        marketing       376\n",
       "        product_mng     383\n",
       "        sales          1772\n",
       "        support         942\n",
       "        technical      1147\n",
       "dtype: int64"
      ]
     },
     "execution_count": 192,
     "metadata": {},
     "output_type": "execute_result"
    }
   ],
   "source": [
    "data.groupby(['salary', 'part']).size()"
   ]
  },
  {
   "cell_type": "code",
   "execution_count": 196,
   "metadata": {},
   "outputs": [],
   "source": [
    "data = data.join(pd.get_dummies(data.salary))#将传入的属性转变为独热编码"
   ]
  },
  {
   "cell_type": "code",
   "execution_count": 197,
   "metadata": {},
   "outputs": [
    {
     "data": {
      "text/html": [
       "<div>\n",
       "<style scoped>\n",
       "    .dataframe tbody tr th:only-of-type {\n",
       "        vertical-align: middle;\n",
       "    }\n",
       "\n",
       "    .dataframe tbody tr th {\n",
       "        vertical-align: top;\n",
       "    }\n",
       "\n",
       "    .dataframe thead th {\n",
       "        text-align: right;\n",
       "    }\n",
       "</style>\n",
       "<table border=\"1\" class=\"dataframe\">\n",
       "  <thead>\n",
       "    <tr style=\"text-align: right;\">\n",
       "      <th></th>\n",
       "      <th>satisfaction_level</th>\n",
       "      <th>last_evaluation</th>\n",
       "      <th>number_project</th>\n",
       "      <th>average_montly_hours</th>\n",
       "      <th>time_spend_company</th>\n",
       "      <th>Work_accident</th>\n",
       "      <th>left</th>\n",
       "      <th>promotion_last_5years</th>\n",
       "      <th>part</th>\n",
       "      <th>salary</th>\n",
       "      <th>high</th>\n",
       "      <th>low</th>\n",
       "      <th>medium</th>\n",
       "    </tr>\n",
       "  </thead>\n",
       "  <tbody>\n",
       "    <tr>\n",
       "      <th>0</th>\n",
       "      <td>0.38</td>\n",
       "      <td>0.53</td>\n",
       "      <td>2</td>\n",
       "      <td>157</td>\n",
       "      <td>3</td>\n",
       "      <td>0</td>\n",
       "      <td>1</td>\n",
       "      <td>0</td>\n",
       "      <td>sales</td>\n",
       "      <td>low</td>\n",
       "      <td>0</td>\n",
       "      <td>1</td>\n",
       "      <td>0</td>\n",
       "    </tr>\n",
       "    <tr>\n",
       "      <th>1</th>\n",
       "      <td>0.80</td>\n",
       "      <td>0.86</td>\n",
       "      <td>5</td>\n",
       "      <td>262</td>\n",
       "      <td>6</td>\n",
       "      <td>0</td>\n",
       "      <td>1</td>\n",
       "      <td>0</td>\n",
       "      <td>sales</td>\n",
       "      <td>medium</td>\n",
       "      <td>0</td>\n",
       "      <td>0</td>\n",
       "      <td>1</td>\n",
       "    </tr>\n",
       "    <tr>\n",
       "      <th>2</th>\n",
       "      <td>0.11</td>\n",
       "      <td>0.88</td>\n",
       "      <td>7</td>\n",
       "      <td>272</td>\n",
       "      <td>4</td>\n",
       "      <td>0</td>\n",
       "      <td>1</td>\n",
       "      <td>0</td>\n",
       "      <td>sales</td>\n",
       "      <td>medium</td>\n",
       "      <td>0</td>\n",
       "      <td>0</td>\n",
       "      <td>1</td>\n",
       "    </tr>\n",
       "    <tr>\n",
       "      <th>3</th>\n",
       "      <td>0.72</td>\n",
       "      <td>0.87</td>\n",
       "      <td>5</td>\n",
       "      <td>223</td>\n",
       "      <td>5</td>\n",
       "      <td>0</td>\n",
       "      <td>1</td>\n",
       "      <td>0</td>\n",
       "      <td>sales</td>\n",
       "      <td>low</td>\n",
       "      <td>0</td>\n",
       "      <td>1</td>\n",
       "      <td>0</td>\n",
       "    </tr>\n",
       "    <tr>\n",
       "      <th>4</th>\n",
       "      <td>0.37</td>\n",
       "      <td>0.52</td>\n",
       "      <td>2</td>\n",
       "      <td>159</td>\n",
       "      <td>3</td>\n",
       "      <td>0</td>\n",
       "      <td>1</td>\n",
       "      <td>0</td>\n",
       "      <td>sales</td>\n",
       "      <td>low</td>\n",
       "      <td>0</td>\n",
       "      <td>1</td>\n",
       "      <td>0</td>\n",
       "    </tr>\n",
       "  </tbody>\n",
       "</table>\n",
       "</div>"
      ],
      "text/plain": [
       "   satisfaction_level  last_evaluation  number_project  average_montly_hours  \\\n",
       "0                0.38             0.53               2                   157   \n",
       "1                0.80             0.86               5                   262   \n",
       "2                0.11             0.88               7                   272   \n",
       "3                0.72             0.87               5                   223   \n",
       "4                0.37             0.52               2                   159   \n",
       "\n",
       "   time_spend_company  Work_accident  left  promotion_last_5years   part  \\\n",
       "0                   3              0     1                      0  sales   \n",
       "1                   6              0     1                      0  sales   \n",
       "2                   4              0     1                      0  sales   \n",
       "3                   5              0     1                      0  sales   \n",
       "4                   3              0     1                      0  sales   \n",
       "\n",
       "   salary  high  low  medium  \n",
       "0     low     0    1       0  \n",
       "1  medium     0    0       1  \n",
       "2  medium     0    0       1  \n",
       "3     low     0    1       0  \n",
       "4     low     0    1       0  "
      ]
     },
     "execution_count": 197,
     "metadata": {},
     "output_type": "execute_result"
    }
   ],
   "source": [
    "data.head()"
   ]
  },
  {
   "cell_type": "code",
   "execution_count": 198,
   "metadata": {},
   "outputs": [],
   "source": [
    "del data['salary']"
   ]
  },
  {
   "cell_type": "code",
   "execution_count": 199,
   "metadata": {},
   "outputs": [
    {
     "data": {
      "text/html": [
       "<div>\n",
       "<style scoped>\n",
       "    .dataframe tbody tr th:only-of-type {\n",
       "        vertical-align: middle;\n",
       "    }\n",
       "\n",
       "    .dataframe tbody tr th {\n",
       "        vertical-align: top;\n",
       "    }\n",
       "\n",
       "    .dataframe thead th {\n",
       "        text-align: right;\n",
       "    }\n",
       "</style>\n",
       "<table border=\"1\" class=\"dataframe\">\n",
       "  <thead>\n",
       "    <tr style=\"text-align: right;\">\n",
       "      <th></th>\n",
       "      <th>satisfaction_level</th>\n",
       "      <th>last_evaluation</th>\n",
       "      <th>number_project</th>\n",
       "      <th>average_montly_hours</th>\n",
       "      <th>time_spend_company</th>\n",
       "      <th>Work_accident</th>\n",
       "      <th>left</th>\n",
       "      <th>promotion_last_5years</th>\n",
       "      <th>part</th>\n",
       "      <th>high</th>\n",
       "      <th>low</th>\n",
       "      <th>medium</th>\n",
       "    </tr>\n",
       "  </thead>\n",
       "  <tbody>\n",
       "    <tr>\n",
       "      <th>0</th>\n",
       "      <td>0.38</td>\n",
       "      <td>0.53</td>\n",
       "      <td>2</td>\n",
       "      <td>157</td>\n",
       "      <td>3</td>\n",
       "      <td>0</td>\n",
       "      <td>1</td>\n",
       "      <td>0</td>\n",
       "      <td>sales</td>\n",
       "      <td>0</td>\n",
       "      <td>1</td>\n",
       "      <td>0</td>\n",
       "    </tr>\n",
       "    <tr>\n",
       "      <th>1</th>\n",
       "      <td>0.80</td>\n",
       "      <td>0.86</td>\n",
       "      <td>5</td>\n",
       "      <td>262</td>\n",
       "      <td>6</td>\n",
       "      <td>0</td>\n",
       "      <td>1</td>\n",
       "      <td>0</td>\n",
       "      <td>sales</td>\n",
       "      <td>0</td>\n",
       "      <td>0</td>\n",
       "      <td>1</td>\n",
       "    </tr>\n",
       "    <tr>\n",
       "      <th>2</th>\n",
       "      <td>0.11</td>\n",
       "      <td>0.88</td>\n",
       "      <td>7</td>\n",
       "      <td>272</td>\n",
       "      <td>4</td>\n",
       "      <td>0</td>\n",
       "      <td>1</td>\n",
       "      <td>0</td>\n",
       "      <td>sales</td>\n",
       "      <td>0</td>\n",
       "      <td>0</td>\n",
       "      <td>1</td>\n",
       "    </tr>\n",
       "    <tr>\n",
       "      <th>3</th>\n",
       "      <td>0.72</td>\n",
       "      <td>0.87</td>\n",
       "      <td>5</td>\n",
       "      <td>223</td>\n",
       "      <td>5</td>\n",
       "      <td>0</td>\n",
       "      <td>1</td>\n",
       "      <td>0</td>\n",
       "      <td>sales</td>\n",
       "      <td>0</td>\n",
       "      <td>1</td>\n",
       "      <td>0</td>\n",
       "    </tr>\n",
       "    <tr>\n",
       "      <th>4</th>\n",
       "      <td>0.37</td>\n",
       "      <td>0.52</td>\n",
       "      <td>2</td>\n",
       "      <td>159</td>\n",
       "      <td>3</td>\n",
       "      <td>0</td>\n",
       "      <td>1</td>\n",
       "      <td>0</td>\n",
       "      <td>sales</td>\n",
       "      <td>0</td>\n",
       "      <td>1</td>\n",
       "      <td>0</td>\n",
       "    </tr>\n",
       "  </tbody>\n",
       "</table>\n",
       "</div>"
      ],
      "text/plain": [
       "   satisfaction_level  last_evaluation  number_project  average_montly_hours  \\\n",
       "0                0.38             0.53               2                   157   \n",
       "1                0.80             0.86               5                   262   \n",
       "2                0.11             0.88               7                   272   \n",
       "3                0.72             0.87               5                   223   \n",
       "4                0.37             0.52               2                   159   \n",
       "\n",
       "   time_spend_company  Work_accident  left  promotion_last_5years   part  \\\n",
       "0                   3              0     1                      0  sales   \n",
       "1                   6              0     1                      0  sales   \n",
       "2                   4              0     1                      0  sales   \n",
       "3                   5              0     1                      0  sales   \n",
       "4                   3              0     1                      0  sales   \n",
       "\n",
       "   high  low  medium  \n",
       "0     0    1       0  \n",
       "1     0    0       1  \n",
       "2     0    0       1  \n",
       "3     0    1       0  \n",
       "4     0    1       0  "
      ]
     },
     "execution_count": 199,
     "metadata": {},
     "output_type": "execute_result"
    }
   ],
   "source": [
    "data.head()"
   ]
  },
  {
   "cell_type": "code",
   "execution_count": 200,
   "metadata": {},
   "outputs": [],
   "source": [
    "data = data.join(pd.get_dummies(data.part))"
   ]
  },
  {
   "cell_type": "code",
   "execution_count": 201,
   "metadata": {},
   "outputs": [
    {
     "data": {
      "text/html": [
       "<div>\n",
       "<style scoped>\n",
       "    .dataframe tbody tr th:only-of-type {\n",
       "        vertical-align: middle;\n",
       "    }\n",
       "\n",
       "    .dataframe tbody tr th {\n",
       "        vertical-align: top;\n",
       "    }\n",
       "\n",
       "    .dataframe thead th {\n",
       "        text-align: right;\n",
       "    }\n",
       "</style>\n",
       "<table border=\"1\" class=\"dataframe\">\n",
       "  <thead>\n",
       "    <tr style=\"text-align: right;\">\n",
       "      <th></th>\n",
       "      <th>satisfaction_level</th>\n",
       "      <th>last_evaluation</th>\n",
       "      <th>number_project</th>\n",
       "      <th>average_montly_hours</th>\n",
       "      <th>time_spend_company</th>\n",
       "      <th>Work_accident</th>\n",
       "      <th>left</th>\n",
       "      <th>promotion_last_5years</th>\n",
       "      <th>part</th>\n",
       "      <th>high</th>\n",
       "      <th>...</th>\n",
       "      <th>IT</th>\n",
       "      <th>RandD</th>\n",
       "      <th>accounting</th>\n",
       "      <th>hr</th>\n",
       "      <th>management</th>\n",
       "      <th>marketing</th>\n",
       "      <th>product_mng</th>\n",
       "      <th>sales</th>\n",
       "      <th>support</th>\n",
       "      <th>technical</th>\n",
       "    </tr>\n",
       "  </thead>\n",
       "  <tbody>\n",
       "    <tr>\n",
       "      <th>0</th>\n",
       "      <td>0.38</td>\n",
       "      <td>0.53</td>\n",
       "      <td>2</td>\n",
       "      <td>157</td>\n",
       "      <td>3</td>\n",
       "      <td>0</td>\n",
       "      <td>1</td>\n",
       "      <td>0</td>\n",
       "      <td>sales</td>\n",
       "      <td>0</td>\n",
       "      <td>...</td>\n",
       "      <td>0</td>\n",
       "      <td>0</td>\n",
       "      <td>0</td>\n",
       "      <td>0</td>\n",
       "      <td>0</td>\n",
       "      <td>0</td>\n",
       "      <td>0</td>\n",
       "      <td>1</td>\n",
       "      <td>0</td>\n",
       "      <td>0</td>\n",
       "    </tr>\n",
       "    <tr>\n",
       "      <th>1</th>\n",
       "      <td>0.80</td>\n",
       "      <td>0.86</td>\n",
       "      <td>5</td>\n",
       "      <td>262</td>\n",
       "      <td>6</td>\n",
       "      <td>0</td>\n",
       "      <td>1</td>\n",
       "      <td>0</td>\n",
       "      <td>sales</td>\n",
       "      <td>0</td>\n",
       "      <td>...</td>\n",
       "      <td>0</td>\n",
       "      <td>0</td>\n",
       "      <td>0</td>\n",
       "      <td>0</td>\n",
       "      <td>0</td>\n",
       "      <td>0</td>\n",
       "      <td>0</td>\n",
       "      <td>1</td>\n",
       "      <td>0</td>\n",
       "      <td>0</td>\n",
       "    </tr>\n",
       "    <tr>\n",
       "      <th>2</th>\n",
       "      <td>0.11</td>\n",
       "      <td>0.88</td>\n",
       "      <td>7</td>\n",
       "      <td>272</td>\n",
       "      <td>4</td>\n",
       "      <td>0</td>\n",
       "      <td>1</td>\n",
       "      <td>0</td>\n",
       "      <td>sales</td>\n",
       "      <td>0</td>\n",
       "      <td>...</td>\n",
       "      <td>0</td>\n",
       "      <td>0</td>\n",
       "      <td>0</td>\n",
       "      <td>0</td>\n",
       "      <td>0</td>\n",
       "      <td>0</td>\n",
       "      <td>0</td>\n",
       "      <td>1</td>\n",
       "      <td>0</td>\n",
       "      <td>0</td>\n",
       "    </tr>\n",
       "    <tr>\n",
       "      <th>3</th>\n",
       "      <td>0.72</td>\n",
       "      <td>0.87</td>\n",
       "      <td>5</td>\n",
       "      <td>223</td>\n",
       "      <td>5</td>\n",
       "      <td>0</td>\n",
       "      <td>1</td>\n",
       "      <td>0</td>\n",
       "      <td>sales</td>\n",
       "      <td>0</td>\n",
       "      <td>...</td>\n",
       "      <td>0</td>\n",
       "      <td>0</td>\n",
       "      <td>0</td>\n",
       "      <td>0</td>\n",
       "      <td>0</td>\n",
       "      <td>0</td>\n",
       "      <td>0</td>\n",
       "      <td>1</td>\n",
       "      <td>0</td>\n",
       "      <td>0</td>\n",
       "    </tr>\n",
       "    <tr>\n",
       "      <th>4</th>\n",
       "      <td>0.37</td>\n",
       "      <td>0.52</td>\n",
       "      <td>2</td>\n",
       "      <td>159</td>\n",
       "      <td>3</td>\n",
       "      <td>0</td>\n",
       "      <td>1</td>\n",
       "      <td>0</td>\n",
       "      <td>sales</td>\n",
       "      <td>0</td>\n",
       "      <td>...</td>\n",
       "      <td>0</td>\n",
       "      <td>0</td>\n",
       "      <td>0</td>\n",
       "      <td>0</td>\n",
       "      <td>0</td>\n",
       "      <td>0</td>\n",
       "      <td>0</td>\n",
       "      <td>1</td>\n",
       "      <td>0</td>\n",
       "      <td>0</td>\n",
       "    </tr>\n",
       "  </tbody>\n",
       "</table>\n",
       "<p>5 rows × 22 columns</p>\n",
       "</div>"
      ],
      "text/plain": [
       "   satisfaction_level  last_evaluation  number_project  average_montly_hours  \\\n",
       "0                0.38             0.53               2                   157   \n",
       "1                0.80             0.86               5                   262   \n",
       "2                0.11             0.88               7                   272   \n",
       "3                0.72             0.87               5                   223   \n",
       "4                0.37             0.52               2                   159   \n",
       "\n",
       "   time_spend_company  Work_accident  left  promotion_last_5years   part  \\\n",
       "0                   3              0     1                      0  sales   \n",
       "1                   6              0     1                      0  sales   \n",
       "2                   4              0     1                      0  sales   \n",
       "3                   5              0     1                      0  sales   \n",
       "4                   3              0     1                      0  sales   \n",
       "\n",
       "   high    ...      IT  RandD  accounting  hr  management  marketing  \\\n",
       "0     0    ...       0      0           0   0           0          0   \n",
       "1     0    ...       0      0           0   0           0          0   \n",
       "2     0    ...       0      0           0   0           0          0   \n",
       "3     0    ...       0      0           0   0           0          0   \n",
       "4     0    ...       0      0           0   0           0          0   \n",
       "\n",
       "   product_mng  sales  support  technical  \n",
       "0            0      1        0          0  \n",
       "1            0      1        0          0  \n",
       "2            0      1        0          0  \n",
       "3            0      1        0          0  \n",
       "4            0      1        0          0  \n",
       "\n",
       "[5 rows x 22 columns]"
      ]
     },
     "execution_count": 201,
     "metadata": {},
     "output_type": "execute_result"
    }
   ],
   "source": [
    "data.head()"
   ]
  },
  {
   "cell_type": "code",
   "execution_count": 202,
   "metadata": {},
   "outputs": [],
   "source": [
    "del data['part']"
   ]
  },
  {
   "cell_type": "code",
   "execution_count": 203,
   "metadata": {},
   "outputs": [
    {
     "data": {
      "text/html": [
       "<div>\n",
       "<style scoped>\n",
       "    .dataframe tbody tr th:only-of-type {\n",
       "        vertical-align: middle;\n",
       "    }\n",
       "\n",
       "    .dataframe tbody tr th {\n",
       "        vertical-align: top;\n",
       "    }\n",
       "\n",
       "    .dataframe thead th {\n",
       "        text-align: right;\n",
       "    }\n",
       "</style>\n",
       "<table border=\"1\" class=\"dataframe\">\n",
       "  <thead>\n",
       "    <tr style=\"text-align: right;\">\n",
       "      <th></th>\n",
       "      <th>satisfaction_level</th>\n",
       "      <th>last_evaluation</th>\n",
       "      <th>number_project</th>\n",
       "      <th>average_montly_hours</th>\n",
       "      <th>time_spend_company</th>\n",
       "      <th>Work_accident</th>\n",
       "      <th>left</th>\n",
       "      <th>promotion_last_5years</th>\n",
       "      <th>high</th>\n",
       "      <th>low</th>\n",
       "      <th>...</th>\n",
       "      <th>IT</th>\n",
       "      <th>RandD</th>\n",
       "      <th>accounting</th>\n",
       "      <th>hr</th>\n",
       "      <th>management</th>\n",
       "      <th>marketing</th>\n",
       "      <th>product_mng</th>\n",
       "      <th>sales</th>\n",
       "      <th>support</th>\n",
       "      <th>technical</th>\n",
       "    </tr>\n",
       "  </thead>\n",
       "  <tbody>\n",
       "    <tr>\n",
       "      <th>0</th>\n",
       "      <td>0.38</td>\n",
       "      <td>0.53</td>\n",
       "      <td>2</td>\n",
       "      <td>157</td>\n",
       "      <td>3</td>\n",
       "      <td>0</td>\n",
       "      <td>1</td>\n",
       "      <td>0</td>\n",
       "      <td>0</td>\n",
       "      <td>1</td>\n",
       "      <td>...</td>\n",
       "      <td>0</td>\n",
       "      <td>0</td>\n",
       "      <td>0</td>\n",
       "      <td>0</td>\n",
       "      <td>0</td>\n",
       "      <td>0</td>\n",
       "      <td>0</td>\n",
       "      <td>1</td>\n",
       "      <td>0</td>\n",
       "      <td>0</td>\n",
       "    </tr>\n",
       "    <tr>\n",
       "      <th>1</th>\n",
       "      <td>0.80</td>\n",
       "      <td>0.86</td>\n",
       "      <td>5</td>\n",
       "      <td>262</td>\n",
       "      <td>6</td>\n",
       "      <td>0</td>\n",
       "      <td>1</td>\n",
       "      <td>0</td>\n",
       "      <td>0</td>\n",
       "      <td>0</td>\n",
       "      <td>...</td>\n",
       "      <td>0</td>\n",
       "      <td>0</td>\n",
       "      <td>0</td>\n",
       "      <td>0</td>\n",
       "      <td>0</td>\n",
       "      <td>0</td>\n",
       "      <td>0</td>\n",
       "      <td>1</td>\n",
       "      <td>0</td>\n",
       "      <td>0</td>\n",
       "    </tr>\n",
       "    <tr>\n",
       "      <th>2</th>\n",
       "      <td>0.11</td>\n",
       "      <td>0.88</td>\n",
       "      <td>7</td>\n",
       "      <td>272</td>\n",
       "      <td>4</td>\n",
       "      <td>0</td>\n",
       "      <td>1</td>\n",
       "      <td>0</td>\n",
       "      <td>0</td>\n",
       "      <td>0</td>\n",
       "      <td>...</td>\n",
       "      <td>0</td>\n",
       "      <td>0</td>\n",
       "      <td>0</td>\n",
       "      <td>0</td>\n",
       "      <td>0</td>\n",
       "      <td>0</td>\n",
       "      <td>0</td>\n",
       "      <td>1</td>\n",
       "      <td>0</td>\n",
       "      <td>0</td>\n",
       "    </tr>\n",
       "    <tr>\n",
       "      <th>3</th>\n",
       "      <td>0.72</td>\n",
       "      <td>0.87</td>\n",
       "      <td>5</td>\n",
       "      <td>223</td>\n",
       "      <td>5</td>\n",
       "      <td>0</td>\n",
       "      <td>1</td>\n",
       "      <td>0</td>\n",
       "      <td>0</td>\n",
       "      <td>1</td>\n",
       "      <td>...</td>\n",
       "      <td>0</td>\n",
       "      <td>0</td>\n",
       "      <td>0</td>\n",
       "      <td>0</td>\n",
       "      <td>0</td>\n",
       "      <td>0</td>\n",
       "      <td>0</td>\n",
       "      <td>1</td>\n",
       "      <td>0</td>\n",
       "      <td>0</td>\n",
       "    </tr>\n",
       "    <tr>\n",
       "      <th>4</th>\n",
       "      <td>0.37</td>\n",
       "      <td>0.52</td>\n",
       "      <td>2</td>\n",
       "      <td>159</td>\n",
       "      <td>3</td>\n",
       "      <td>0</td>\n",
       "      <td>1</td>\n",
       "      <td>0</td>\n",
       "      <td>0</td>\n",
       "      <td>1</td>\n",
       "      <td>...</td>\n",
       "      <td>0</td>\n",
       "      <td>0</td>\n",
       "      <td>0</td>\n",
       "      <td>0</td>\n",
       "      <td>0</td>\n",
       "      <td>0</td>\n",
       "      <td>0</td>\n",
       "      <td>1</td>\n",
       "      <td>0</td>\n",
       "      <td>0</td>\n",
       "    </tr>\n",
       "  </tbody>\n",
       "</table>\n",
       "<p>5 rows × 21 columns</p>\n",
       "</div>"
      ],
      "text/plain": [
       "   satisfaction_level  last_evaluation  number_project  average_montly_hours  \\\n",
       "0                0.38             0.53               2                   157   \n",
       "1                0.80             0.86               5                   262   \n",
       "2                0.11             0.88               7                   272   \n",
       "3                0.72             0.87               5                   223   \n",
       "4                0.37             0.52               2                   159   \n",
       "\n",
       "   time_spend_company  Work_accident  left  promotion_last_5years  high  low  \\\n",
       "0                   3              0     1                      0     0    1   \n",
       "1                   6              0     1                      0     0    0   \n",
       "2                   4              0     1                      0     0    0   \n",
       "3                   5              0     1                      0     0    1   \n",
       "4                   3              0     1                      0     0    1   \n",
       "\n",
       "     ...      IT  RandD  accounting  hr  management  marketing  product_mng  \\\n",
       "0    ...       0      0           0   0           0          0            0   \n",
       "1    ...       0      0           0   0           0          0            0   \n",
       "2    ...       0      0           0   0           0          0            0   \n",
       "3    ...       0      0           0   0           0          0            0   \n",
       "4    ...       0      0           0   0           0          0            0   \n",
       "\n",
       "   sales  support  technical  \n",
       "0      1        0          0  \n",
       "1      1        0          0  \n",
       "2      1        0          0  \n",
       "3      1        0          0  \n",
       "4      1        0          0  \n",
       "\n",
       "[5 rows x 21 columns]"
      ]
     },
     "execution_count": 203,
     "metadata": {},
     "output_type": "execute_result"
    }
   ],
   "source": [
    "data.head()"
   ]
  },
  {
   "cell_type": "code",
   "execution_count": 204,
   "metadata": {},
   "outputs": [
    {
     "name": "stdout",
     "output_type": "stream",
     "text": [
      "<class 'pandas.core.frame.DataFrame'>\n",
      "RangeIndex: 14999 entries, 0 to 14998\n",
      "Data columns (total 21 columns):\n",
      "satisfaction_level       14999 non-null float64\n",
      "last_evaluation          14999 non-null float64\n",
      "number_project           14999 non-null int64\n",
      "average_montly_hours     14999 non-null int64\n",
      "time_spend_company       14999 non-null int64\n",
      "Work_accident            14999 non-null int64\n",
      "left                     14999 non-null int64\n",
      "promotion_last_5years    14999 non-null int64\n",
      "high                     14999 non-null uint8\n",
      "low                      14999 non-null uint8\n",
      "medium                   14999 non-null uint8\n",
      "IT                       14999 non-null uint8\n",
      "RandD                    14999 non-null uint8\n",
      "accounting               14999 non-null uint8\n",
      "hr                       14999 non-null uint8\n",
      "management               14999 non-null uint8\n",
      "marketing                14999 non-null uint8\n",
      "product_mng              14999 non-null uint8\n",
      "sales                    14999 non-null uint8\n",
      "support                  14999 non-null uint8\n",
      "technical                14999 non-null uint8\n",
      "dtypes: float64(2), int64(6), uint8(13)\n",
      "memory usage: 1.1 MB\n"
     ]
    }
   ],
   "source": [
    "data.info()"
   ]
  },
  {
   "cell_type": "code",
   "execution_count": 218,
   "metadata": {},
   "outputs": [],
   "source": [
    "#已经将数据的所有进行了数值化，现在就是要弄清楚x和y"
   ]
  },
  {
   "cell_type": "code",
   "execution_count": 219,
   "metadata": {},
   "outputs": [
    {
     "data": {
      "text/plain": [
       "0.7619174611640777"
      ]
     },
     "execution_count": 219,
     "metadata": {},
     "output_type": "execute_result"
    }
   ],
   "source": [
    "data.left.value_counts()# 这里需要警惕，如果Y的分步是这样的，0和1不是均匀分布，可以计算一下0占总数的多少\n",
    "11428/len(data)#发现0占76%，所以如果最后的模型如果都预测为0，模型的正确率也在76%，所以感觉正确率很高了，但是只是凑巧，是没有用的"
   ]
  },
  {
   "cell_type": "code",
   "execution_count": 221,
   "metadata": {},
   "outputs": [],
   "source": [
    "Y_data = data.left.values.reshape(-1, 1)"
   ]
  },
  {
   "cell_type": "code",
   "execution_count": 222,
   "metadata": {},
   "outputs": [
    {
     "data": {
      "text/plain": [
       "(14999, 1)"
      ]
     },
     "execution_count": 222,
     "metadata": {},
     "output_type": "execute_result"
    }
   ],
   "source": [
    "Y_data.shape"
   ]
  },
  {
   "cell_type": "code",
   "execution_count": 232,
   "metadata": {},
   "outputs": [],
   "source": [
    "Y = torch.from_numpy(Y_data).type(torch.float32)"
   ]
  },
  {
   "cell_type": "code",
   "execution_count": 233,
   "metadata": {},
   "outputs": [
    {
     "data": {
      "text/plain": [
       "tensor([[1.],\n",
       "        [1.],\n",
       "        [1.],\n",
       "        ...,\n",
       "        [1.],\n",
       "        [1.],\n",
       "        [1.]])"
      ]
     },
     "execution_count": 233,
     "metadata": {},
     "output_type": "execute_result"
    }
   ],
   "source": [
    "Y"
   ]
  },
  {
   "cell_type": "code",
   "execution_count": 234,
   "metadata": {},
   "outputs": [],
   "source": [
    "X_data = data[[c for c in data.columns if c!='left']].values"
   ]
  },
  {
   "cell_type": "code",
   "execution_count": 235,
   "metadata": {},
   "outputs": [
    {
     "data": {
      "text/plain": [
       "array([[0.38, 0.53, 2.  , ..., 1.  , 0.  , 0.  ],\n",
       "       [0.8 , 0.86, 5.  , ..., 1.  , 0.  , 0.  ],\n",
       "       [0.11, 0.88, 7.  , ..., 1.  , 0.  , 0.  ],\n",
       "       ...,\n",
       "       [0.37, 0.53, 2.  , ..., 0.  , 1.  , 0.  ],\n",
       "       [0.11, 0.96, 6.  , ..., 0.  , 1.  , 0.  ],\n",
       "       [0.37, 0.52, 2.  , ..., 0.  , 1.  , 0.  ]])"
      ]
     },
     "execution_count": 235,
     "metadata": {},
     "output_type": "execute_result"
    }
   ],
   "source": [
    "X_data"
   ]
  },
  {
   "cell_type": "code",
   "execution_count": 236,
   "metadata": {},
   "outputs": [],
   "source": [
    "X = torch.from_numpy(X_data).type(torch.float32)"
   ]
  },
  {
   "cell_type": "code",
   "execution_count": 237,
   "metadata": {},
   "outputs": [
    {
     "data": {
      "text/plain": [
       "tensor([[0.3800, 0.5300, 2.0000,  ..., 1.0000, 0.0000, 0.0000],\n",
       "        [0.8000, 0.8600, 5.0000,  ..., 1.0000, 0.0000, 0.0000],\n",
       "        [0.1100, 0.8800, 7.0000,  ..., 1.0000, 0.0000, 0.0000],\n",
       "        ...,\n",
       "        [0.3700, 0.5300, 2.0000,  ..., 0.0000, 1.0000, 0.0000],\n",
       "        [0.1100, 0.9600, 6.0000,  ..., 0.0000, 1.0000, 0.0000],\n",
       "        [0.3700, 0.5200, 2.0000,  ..., 0.0000, 1.0000, 0.0000]])"
      ]
     },
     "execution_count": 237,
     "metadata": {},
     "output_type": "execute_result"
    }
   ],
   "source": [
    "X"
   ]
  },
  {
   "cell_type": "code",
   "execution_count": 238,
   "metadata": {},
   "outputs": [
    {
     "data": {
      "text/plain": [
       "torch.Size([14999, 20])"
      ]
     },
     "execution_count": 238,
     "metadata": {},
     "output_type": "execute_result"
    }
   ],
   "source": [
    "X.shape"
   ]
  },
  {
   "cell_type": "code",
   "execution_count": 239,
   "metadata": {},
   "outputs": [
    {
     "data": {
      "text/plain": [
       "torch.Size([14999, 1])"
      ]
     },
     "execution_count": 239,
     "metadata": {},
     "output_type": "execute_result"
    }
   ],
   "source": [
    "Y.shape"
   ]
  },
  {
   "cell_type": "markdown",
   "metadata": {},
   "source": [
    "# 创建模型"
   ]
  },
  {
   "cell_type": "markdown",
   "metadata": {},
   "source": [
    "通过nn.Module来搭建模型\n",
    "\n",
    "通过__init__：初始化所有层\n",
    "\n",
    "通过forward：定义模型的运算过程（前向传播的过程）"
   ]
  },
  {
   "cell_type": "code",
   "execution_count": 241,
   "metadata": {},
   "outputs": [],
   "source": [
    "class Model(nn.Module):\n",
    "    def __init__(self):\n",
    "        super().__init__()\n",
    "        self.liner_1 = nn.Linear(20, 64)\n",
    "        self.liner_2 = nn.Linear(64, 64)\n",
    "        self.liner_3 = nn.Linear(64, 1)\n",
    "        self.relu = nn.ReLU()\n",
    "        self.sigmoid = nn.Sigmoid()\n",
    "        \n",
    "    def forward(self, input1):\n",
    "        x = self.liner_1(input1)\n",
    "        x = self.relu(x)\n",
    "        x = self.liner_2(x)\n",
    "        x = self.relu(x)\n",
    "        x = self.liner_3(x)\n",
    "        x = self.sigmoid(x)\n",
    "        return x"
   ]
  },
  {
   "cell_type": "code",
   "execution_count": 244,
   "metadata": {},
   "outputs": [],
   "source": [
    "model = Model()"
   ]
  },
  {
   "cell_type": "markdown",
   "metadata": {},
   "source": [
    "# 改写模型"
   ]
  },
  {
   "cell_type": "code",
   "execution_count": 243,
   "metadata": {},
   "outputs": [],
   "source": [
    "import torch.nn.functional as F"
   ]
  },
  {
   "cell_type": "code",
   "execution_count": 245,
   "metadata": {},
   "outputs": [],
   "source": [
    "# F.relu()     # F是函数式API，相当于我们在初始化模型的时候就不用初始化了，直接在forward中直接调用就可以\n",
    "class Model(nn.Module):\n",
    "    def __init__(self):\n",
    "        super().__init__()\n",
    "        self.liner_1 = nn.Linear(20, 64)\n",
    "        self.liner_2 = nn.Linear(64, 64)\n",
    "        self.liner_3 = nn.Linear(64, 1)\n",
    "        \n",
    "    def forward(self, input1):\n",
    "        x = F.relu(self.liner_1(input1))\n",
    "        x = F.relu(self.liner_2(x))\n",
    "        x = F.sigmoid(self.liner_3(x))\n",
    "        return x"
   ]
  },
  {
   "cell_type": "code",
   "execution_count": 246,
   "metadata": {},
   "outputs": [],
   "source": [
    "model = Model()"
   ]
  },
  {
   "cell_type": "code",
   "execution_count": 247,
   "metadata": {},
   "outputs": [
    {
     "data": {
      "text/plain": [
       "Model(\n",
       "  (liner_1): Linear(in_features=20, out_features=64, bias=True)\n",
       "  (liner_2): Linear(in_features=64, out_features=64, bias=True)\n",
       "  (liner_3): Linear(in_features=64, out_features=1, bias=True)\n",
       ")"
      ]
     },
     "execution_count": 247,
     "metadata": {},
     "output_type": "execute_result"
    }
   ],
   "source": [
    "model"
   ]
  },
  {
   "cell_type": "code",
   "execution_count": 248,
   "metadata": {},
   "outputs": [],
   "source": [
    "lr = 0.0001"
   ]
  },
  {
   "cell_type": "code",
   "execution_count": 265,
   "metadata": {},
   "outputs": [],
   "source": [
    "def get_model():\n",
    "    model = Model()\n",
    "    opt = torch.optim.Adam(model.parameters(), lr=lr)\n",
    "    return model, opt"
   ]
  },
  {
   "cell_type": "code",
   "execution_count": 280,
   "metadata": {},
   "outputs": [],
   "source": [
    "model, optim = get_model()"
   ]
  },
  {
   "cell_type": "markdown",
   "metadata": {},
   "source": [
    "# 定义损失函数"
   ]
  },
  {
   "cell_type": "code",
   "execution_count": 281,
   "metadata": {},
   "outputs": [],
   "source": [
    "loss_fn = nn.BCELoss()"
   ]
  },
  {
   "cell_type": "code",
   "execution_count": 282,
   "metadata": {},
   "outputs": [],
   "source": [
    "batch = 64\n",
    "no_of_batches = len(X)//batch\n",
    "epochs = 100"
   ]
  },
  {
   "cell_type": "code",
   "execution_count": 283,
   "metadata": {},
   "outputs": [
    {
     "name": "stderr",
     "output_type": "stream",
     "text": [
      "/Users/optimus/.pyenv/versions/anaconda3-5.3.1/lib/python3.7/site-packages/torch/nn/functional.py:1709: UserWarning: nn.functional.sigmoid is deprecated. Use torch.sigmoid instead.\n",
      "  warnings.warn(\"nn.functional.sigmoid is deprecated. Use torch.sigmoid instead.\")\n"
     ]
    },
    {
     "name": "stdout",
     "output_type": "stream",
     "text": [
      "epoch: 0  loss: 0.6146020293235779\n",
      "epoch: 1  loss: 0.6327384114265442\n",
      "epoch: 2  loss: 0.6430433988571167\n",
      "epoch: 3  loss: 0.6426671743392944\n",
      "epoch: 4  loss: 0.639225959777832\n",
      "epoch: 5  loss: 0.6339817047119141\n",
      "epoch: 6  loss: 0.6277123689651489\n",
      "epoch: 7  loss: 0.620914101600647\n",
      "epoch: 8  loss: 0.6139100790023804\n",
      "epoch: 9  loss: 0.6065962910652161\n",
      "epoch: 10  loss: 0.597443699836731\n",
      "epoch: 11  loss: 0.5817920565605164\n",
      "epoch: 12  loss: 0.57862389087677\n",
      "epoch: 13  loss: 0.5750311613082886\n",
      "epoch: 14  loss: 0.5716075301170349\n",
      "epoch: 15  loss: 0.5690878629684448\n",
      "epoch: 16  loss: 0.5659042000770569\n",
      "epoch: 17  loss: 0.564188539981842\n",
      "epoch: 18  loss: 0.5630999207496643\n",
      "epoch: 19  loss: 0.5625633597373962\n",
      "epoch: 20  loss: 0.5621768832206726\n",
      "epoch: 21  loss: 0.5620889067649841\n",
      "epoch: 22  loss: 0.5620150566101074\n",
      "epoch: 23  loss: 0.5614249110221863\n",
      "epoch: 24  loss: 0.5623069405555725\n",
      "epoch: 25  loss: 0.562680721282959\n",
      "epoch: 26  loss: 0.5630560517311096\n",
      "epoch: 27  loss: 0.5635635852813721\n",
      "epoch: 28  loss: 0.564067006111145\n",
      "epoch: 29  loss: 0.5617312788963318\n",
      "epoch: 30  loss: 0.5638840198516846\n",
      "epoch: 31  loss: 0.564310610294342\n",
      "epoch: 32  loss: 0.5647749304771423\n",
      "epoch: 33  loss: 0.5652273893356323\n",
      "epoch: 34  loss: 0.5655961632728577\n",
      "epoch: 35  loss: 0.565891683101654\n",
      "epoch: 36  loss: 0.5661141872406006\n",
      "epoch: 37  loss: 0.5662633776664734\n",
      "epoch: 38  loss: 0.5663374066352844\n",
      "epoch: 39  loss: 0.5663597583770752\n",
      "epoch: 40  loss: 0.5663104057312012\n",
      "epoch: 41  loss: 0.5878264307975769\n",
      "epoch: 42  loss: 0.5695584416389465\n",
      "epoch: 43  loss: 0.5664962530136108\n",
      "epoch: 44  loss: 0.5647050142288208\n",
      "epoch: 45  loss: 0.5659076571464539\n",
      "epoch: 46  loss: 0.5656987428665161\n",
      "epoch: 47  loss: 0.5652945041656494\n",
      "epoch: 48  loss: 0.5623918771743774\n",
      "epoch: 49  loss: 0.5647194981575012\n",
      "epoch: 50  loss: 0.5644397139549255\n",
      "epoch: 51  loss: 0.5642008781433105\n",
      "epoch: 52  loss: 0.5622413158416748\n",
      "epoch: 53  loss: 0.5635464191436768\n",
      "epoch: 54  loss: 0.5637200474739075\n",
      "epoch: 55  loss: 0.5635365843772888\n",
      "epoch: 56  loss: 0.562966525554657\n",
      "epoch: 57  loss: 0.5609200596809387\n",
      "epoch: 58  loss: 0.5625472068786621\n",
      "epoch: 59  loss: 0.562491774559021\n",
      "epoch: 60  loss: 0.5622977614402771\n",
      "epoch: 61  loss: 0.5619930028915405\n",
      "epoch: 62  loss: 0.5607940554618835\n",
      "epoch: 63  loss: 0.5608576536178589\n",
      "epoch: 64  loss: 0.5600137114524841\n",
      "epoch: 65  loss: 0.5606739521026611\n",
      "epoch: 66  loss: 0.5606366991996765\n",
      "epoch: 67  loss: 0.5604524612426758\n",
      "epoch: 68  loss: 0.5599550008773804\n",
      "epoch: 69  loss: 0.5582748651504517\n",
      "epoch: 70  loss: 0.5594484210014343\n",
      "epoch: 71  loss: 0.5578030347824097\n",
      "epoch: 72  loss: 0.5588192939758301\n",
      "epoch: 73  loss: 0.5576112866401672\n",
      "epoch: 74  loss: 0.6388252973556519\n",
      "epoch: 75  loss: 0.5784775614738464\n",
      "epoch: 76  loss: 0.5675177574157715\n",
      "epoch: 77  loss: 0.5660589337348938\n",
      "epoch: 78  loss: 0.5577516555786133\n",
      "epoch: 79  loss: 0.5576261878013611\n",
      "epoch: 80  loss: 0.5560517907142639\n",
      "epoch: 81  loss: 0.5558137893676758\n",
      "epoch: 82  loss: 0.5546476244926453\n",
      "epoch: 83  loss: 0.554175853729248\n",
      "epoch: 84  loss: 0.5532688498497009\n",
      "epoch: 85  loss: 0.5567103624343872\n",
      "epoch: 86  loss: 0.5716587901115417\n",
      "epoch: 87  loss: 0.5464392304420471\n",
      "epoch: 88  loss: 0.5499300360679626\n",
      "epoch: 89  loss: 0.5465468764305115\n",
      "epoch: 90  loss: 0.5465829968452454\n",
      "epoch: 91  loss: 0.5441555976867676\n",
      "epoch: 92  loss: 0.5458508133888245\n",
      "epoch: 93  loss: 0.5437661409378052\n",
      "epoch: 94  loss: 0.5447797179222107\n",
      "epoch: 95  loss: 0.5424051284790039\n",
      "epoch: 96  loss: 0.542913556098938\n",
      "epoch: 97  loss: 0.5400702953338623\n",
      "epoch: 98  loss: 0.5394750237464905\n",
      "epoch: 99  loss: 0.5390023589134216\n"
     ]
    }
   ],
   "source": [
    "for epoch in range(epochs):\n",
    "    for i in range(no_of_batches):\n",
    "        start = i*batch\n",
    "        end = start + batch\n",
    "        x = X[start: end]\n",
    "        y = Y[start: end]\n",
    "        y_pred = model(x)\n",
    "        loss = loss_fn(y_pred, y)\n",
    "        optim.zero_grad()\n",
    "        loss.backward()\n",
    "        optim.step()\n",
    "    with torch.no_grad():\n",
    "        print('epoch:', epoch, ' loss:', loss_fn(model(X), Y).data.item())"
   ]
  },
  {
   "cell_type": "markdown",
   "metadata": {},
   "source": [
    "# 使用dataset类进行构建"
   ]
  },
  {
   "cell_type": "code",
   "execution_count": 270,
   "metadata": {},
   "outputs": [],
   "source": [
    "from torch.utils.data import TensorDataset"
   ]
  },
  {
   "cell_type": "code",
   "execution_count": 271,
   "metadata": {},
   "outputs": [],
   "source": [
    "HRdataset = TensorDataset(X, Y)"
   ]
  },
  {
   "cell_type": "code",
   "execution_count": 273,
   "metadata": {},
   "outputs": [
    {
     "data": {
      "text/plain": [
       "(tensor([[3.8000e-01, 5.3000e-01, 2.0000e+00, 1.5700e+02, 3.0000e+00, 0.0000e+00,\n",
       "          0.0000e+00, 0.0000e+00, 1.0000e+00, 0.0000e+00, 0.0000e+00, 0.0000e+00,\n",
       "          0.0000e+00, 0.0000e+00, 0.0000e+00, 0.0000e+00, 0.0000e+00, 1.0000e+00,\n",
       "          0.0000e+00, 0.0000e+00],\n",
       "         [8.0000e-01, 8.6000e-01, 5.0000e+00, 2.6200e+02, 6.0000e+00, 0.0000e+00,\n",
       "          0.0000e+00, 0.0000e+00, 0.0000e+00, 1.0000e+00, 0.0000e+00, 0.0000e+00,\n",
       "          0.0000e+00, 0.0000e+00, 0.0000e+00, 0.0000e+00, 0.0000e+00, 1.0000e+00,\n",
       "          0.0000e+00, 0.0000e+00],\n",
       "         [1.1000e-01, 8.8000e-01, 7.0000e+00, 2.7200e+02, 4.0000e+00, 0.0000e+00,\n",
       "          0.0000e+00, 0.0000e+00, 0.0000e+00, 1.0000e+00, 0.0000e+00, 0.0000e+00,\n",
       "          0.0000e+00, 0.0000e+00, 0.0000e+00, 0.0000e+00, 0.0000e+00, 1.0000e+00,\n",
       "          0.0000e+00, 0.0000e+00],\n",
       "         [7.2000e-01, 8.7000e-01, 5.0000e+00, 2.2300e+02, 5.0000e+00, 0.0000e+00,\n",
       "          0.0000e+00, 0.0000e+00, 1.0000e+00, 0.0000e+00, 0.0000e+00, 0.0000e+00,\n",
       "          0.0000e+00, 0.0000e+00, 0.0000e+00, 0.0000e+00, 0.0000e+00, 1.0000e+00,\n",
       "          0.0000e+00, 0.0000e+00],\n",
       "         [3.7000e-01, 5.2000e-01, 2.0000e+00, 1.5900e+02, 3.0000e+00, 0.0000e+00,\n",
       "          0.0000e+00, 0.0000e+00, 1.0000e+00, 0.0000e+00, 0.0000e+00, 0.0000e+00,\n",
       "          0.0000e+00, 0.0000e+00, 0.0000e+00, 0.0000e+00, 0.0000e+00, 1.0000e+00,\n",
       "          0.0000e+00, 0.0000e+00]]), tensor([[1.],\n",
       "         [1.],\n",
       "         [1.],\n",
       "         [1.],\n",
       "         [1.]]))"
      ]
     },
     "execution_count": 273,
     "metadata": {},
     "output_type": "execute_result"
    }
   ],
   "source": [
    "len(HRdataset)\n",
    "HRdataset[0:5]"
   ]
  },
  {
   "cell_type": "code",
   "execution_count": 284,
   "metadata": {},
   "outputs": [],
   "source": [
    "model, opt = get_model()"
   ]
  },
  {
   "cell_type": "code",
   "execution_count": 286,
   "metadata": {},
   "outputs": [
    {
     "name": "stderr",
     "output_type": "stream",
     "text": [
      "/Users/optimus/.pyenv/versions/anaconda3-5.3.1/lib/python3.7/site-packages/torch/nn/functional.py:1709: UserWarning: nn.functional.sigmoid is deprecated. Use torch.sigmoid instead.\n",
      "  warnings.warn(\"nn.functional.sigmoid is deprecated. Use torch.sigmoid instead.\")\n"
     ]
    },
    {
     "name": "stdout",
     "output_type": "stream",
     "text": [
      "epoch: 0  loss: 0.6185739636421204\n",
      "epoch: 1  loss: 0.6051256060600281\n",
      "epoch: 2  loss: 0.585969090461731\n",
      "epoch: 3  loss: 0.601087212562561\n",
      "epoch: 4  loss: 0.5706690549850464\n",
      "epoch: 5  loss: 0.5761004686355591\n",
      "epoch: 6  loss: 0.5822626352310181\n",
      "epoch: 7  loss: 0.569270133972168\n",
      "epoch: 8  loss: 0.5661882758140564\n",
      "epoch: 9  loss: 0.5644578337669373\n",
      "epoch: 10  loss: 0.5636300444602966\n",
      "epoch: 11  loss: 0.5631433725357056\n",
      "epoch: 12  loss: 0.5629239082336426\n",
      "epoch: 13  loss: 0.5628947019577026\n",
      "epoch: 14  loss: 0.5647311806678772\n",
      "epoch: 15  loss: 0.5634415745735168\n",
      "epoch: 16  loss: 0.5619903206825256\n",
      "epoch: 17  loss: 0.5702695250511169\n",
      "epoch: 18  loss: 0.5624945163726807\n",
      "epoch: 19  loss: 0.5619982481002808\n",
      "epoch: 20  loss: 0.5621541142463684\n",
      "epoch: 21  loss: 0.5624427795410156\n",
      "epoch: 22  loss: 0.5627502202987671\n",
      "epoch: 23  loss: 0.5616241693496704\n",
      "epoch: 24  loss: 0.564139187335968\n",
      "epoch: 25  loss: 0.5653941631317139\n",
      "epoch: 26  loss: 0.5653297901153564\n",
      "epoch: 27  loss: 0.5657737851142883\n",
      "epoch: 28  loss: 0.5655617713928223\n",
      "epoch: 29  loss: 0.5659594535827637\n",
      "epoch: 30  loss: 0.5656152367591858\n",
      "epoch: 31  loss: 0.5657548308372498\n",
      "epoch: 32  loss: 0.5678548216819763\n",
      "epoch: 33  loss: 0.5653107166290283\n",
      "epoch: 34  loss: 0.5651214122772217\n",
      "epoch: 35  loss: 0.5655499696731567\n",
      "epoch: 36  loss: 0.5650070309638977\n",
      "epoch: 37  loss: 0.5653160214424133\n",
      "epoch: 38  loss: 0.5612621307373047\n",
      "epoch: 39  loss: 0.5643957257270813\n",
      "epoch: 40  loss: 0.5644214749336243\n",
      "epoch: 41  loss: 0.5643643736839294\n",
      "epoch: 42  loss: 0.5639138221740723\n",
      "epoch: 43  loss: 0.563563883304596\n",
      "epoch: 44  loss: 0.563339114189148\n",
      "epoch: 45  loss: 0.563128650188446\n",
      "epoch: 46  loss: 0.5627776384353638\n",
      "epoch: 47  loss: 0.5624836683273315\n",
      "epoch: 48  loss: 0.5619102716445923\n",
      "epoch: 49  loss: 0.5614152550697327\n",
      "epoch: 50  loss: 0.5893045663833618\n",
      "epoch: 51  loss: 0.5647318959236145\n",
      "epoch: 52  loss: 0.5626099705696106\n",
      "epoch: 53  loss: 0.5618956685066223\n",
      "epoch: 54  loss: 0.5632044672966003\n",
      "epoch: 55  loss: 0.5602163076400757\n",
      "epoch: 56  loss: 0.5602986812591553\n",
      "epoch: 57  loss: 0.5602430701255798\n",
      "epoch: 58  loss: 0.5599794983863831\n",
      "epoch: 59  loss: 0.5596557855606079\n",
      "epoch: 60  loss: 0.5596025586128235\n",
      "epoch: 61  loss: 0.5592381358146667\n",
      "epoch: 62  loss: 0.5589022636413574\n",
      "epoch: 63  loss: 0.558656632900238\n",
      "epoch: 64  loss: 0.5587725639343262\n",
      "epoch: 65  loss: 0.5584881901741028\n",
      "epoch: 66  loss: 0.5604276061058044\n",
      "epoch: 67  loss: 0.5581667423248291\n",
      "epoch: 68  loss: 0.5576702952384949\n",
      "epoch: 69  loss: 0.5573681592941284\n",
      "epoch: 70  loss: 0.557213306427002\n",
      "epoch: 71  loss: 0.5570381879806519\n",
      "epoch: 72  loss: 0.5568478107452393\n",
      "epoch: 73  loss: 0.5566865801811218\n",
      "epoch: 74  loss: 0.5565011501312256\n",
      "epoch: 75  loss: 0.5563071370124817\n",
      "epoch: 76  loss: 0.5561071038246155\n",
      "epoch: 77  loss: 0.5557931065559387\n",
      "epoch: 78  loss: 0.5553679466247559\n",
      "epoch: 79  loss: 0.5785444974899292\n",
      "epoch: 80  loss: 0.5596953630447388\n",
      "epoch: 81  loss: 0.5569899678230286\n",
      "epoch: 82  loss: 0.5562612414360046\n",
      "epoch: 83  loss: 0.5554419755935669\n",
      "epoch: 84  loss: 0.5551390051841736\n",
      "epoch: 85  loss: 0.5545457005500793\n",
      "epoch: 86  loss: 0.5544915795326233\n",
      "epoch: 87  loss: 0.5541946291923523\n",
      "epoch: 88  loss: 0.5538339018821716\n",
      "epoch: 89  loss: 0.55363529920578\n",
      "epoch: 90  loss: 0.5532562732696533\n",
      "epoch: 91  loss: 0.5530440807342529\n",
      "epoch: 92  loss: 0.5525667667388916\n",
      "epoch: 93  loss: 0.5523332953453064\n",
      "epoch: 94  loss: 0.5518168210983276\n",
      "epoch: 95  loss: 0.5515817403793335\n",
      "epoch: 96  loss: 0.5510129928588867\n",
      "epoch: 97  loss: 0.5506988763809204\n",
      "epoch: 98  loss: 0.5640702843666077\n",
      "epoch: 99  loss: 0.6092104911804199\n"
     ]
    }
   ],
   "source": [
    "for epoch in range(epochs):\n",
    "    for i in range(no_of_batches):\n",
    "        x, y = HRdataset[i*batch: i*batch+batch]\n",
    "        y_pred = model(x)\n",
    "        loss = loss_fn(y_pred, y)\n",
    "        opt.zero_grad()\n",
    "        loss.backward()\n",
    "        opt.step()\n",
    "    with torch.no_grad():\n",
    "        print('epoch:', epoch, ' loss:', loss_fn(model(X), Y).data.item())"
   ]
  },
  {
   "cell_type": "code",
   "execution_count": 276,
   "metadata": {},
   "outputs": [],
   "source": [
    "# 我们可以看到每次训练的时候，模型看到的数据都是有一定顺序的，无论我们怎么切片，都是相同的顺序\n",
    "# 我们怎样才能使模型不关注顺序，能够乱序给它，关注数据本身\n",
    "# 提出了dataloader类"
   ]
  },
  {
   "cell_type": "markdown",
   "metadata": {},
   "source": [
    "# dataloader\n",
    "通过dataloader方法，提供一个迭代的对象，并且可以无序的输出批次，使我们的训练更加简便。"
   ]
  },
  {
   "cell_type": "code",
   "execution_count": 287,
   "metadata": {},
   "outputs": [],
   "source": [
    "from torch.utils.data import DataLoader"
   ]
  },
  {
   "cell_type": "code",
   "execution_count": 288,
   "metadata": {},
   "outputs": [],
   "source": [
    "HR_ds = TensorDataset(X, Y)\n",
    "HR_dl = DataLoader(HR_ds, batch_size=batch, shuffle=True)"
   ]
  },
  {
   "cell_type": "code",
   "execution_count": 289,
   "metadata": {},
   "outputs": [
    {
     "name": "stderr",
     "output_type": "stream",
     "text": [
      "/Users/optimus/.pyenv/versions/anaconda3-5.3.1/lib/python3.7/site-packages/torch/nn/functional.py:1709: UserWarning: nn.functional.sigmoid is deprecated. Use torch.sigmoid instead.\n",
      "  warnings.warn(\"nn.functional.sigmoid is deprecated. Use torch.sigmoid instead.\")\n"
     ]
    },
    {
     "name": "stdout",
     "output_type": "stream",
     "text": [
      "epoch: 0  loss: 0.5597438216209412\n",
      "epoch: 1  loss: 0.5568135380744934\n",
      "epoch: 2  loss: 0.5532646179199219\n",
      "epoch: 3  loss: 0.557971179485321\n",
      "epoch: 4  loss: 0.5443223118782043\n",
      "epoch: 5  loss: 0.5387037396430969\n",
      "epoch: 6  loss: 0.5333834886550903\n",
      "epoch: 7  loss: 0.5412779450416565\n",
      "epoch: 8  loss: 0.518126904964447\n",
      "epoch: 9  loss: 0.5071823596954346\n",
      "epoch: 10  loss: 0.497702032327652\n",
      "epoch: 11  loss: 0.48618391156196594\n",
      "epoch: 12  loss: 0.4751099944114685\n",
      "epoch: 13  loss: 0.4643169045448303\n",
      "epoch: 14  loss: 0.4584665894508362\n",
      "epoch: 15  loss: 0.44158074259757996\n",
      "epoch: 16  loss: 0.4386447072029114\n",
      "epoch: 17  loss: 0.4239268898963928\n",
      "epoch: 18  loss: 0.4116957485675812\n",
      "epoch: 19  loss: 0.41367149353027344\n",
      "epoch: 20  loss: 0.3955649435520172\n",
      "epoch: 21  loss: 0.38774076104164124\n",
      "epoch: 22  loss: 0.3822007477283478\n",
      "epoch: 23  loss: 0.3745253086090088\n",
      "epoch: 24  loss: 0.3680866062641144\n",
      "epoch: 25  loss: 0.36417147517204285\n",
      "epoch: 26  loss: 0.3634641468524933\n",
      "epoch: 27  loss: 0.3542407751083374\n",
      "epoch: 28  loss: 0.36012232303619385\n",
      "epoch: 29  loss: 0.3469565212726593\n",
      "epoch: 30  loss: 0.3410618305206299\n",
      "epoch: 31  loss: 0.3395746648311615\n",
      "epoch: 32  loss: 0.3346084952354431\n",
      "epoch: 33  loss: 0.3331010043621063\n",
      "epoch: 34  loss: 0.3285905122756958\n",
      "epoch: 35  loss: 0.3457697927951813\n",
      "epoch: 36  loss: 0.32301759719848633\n",
      "epoch: 37  loss: 0.33012452721595764\n",
      "epoch: 38  loss: 0.32017844915390015\n",
      "epoch: 39  loss: 0.31886735558509827\n",
      "epoch: 40  loss: 0.31599587202072144\n",
      "epoch: 41  loss: 0.31384891271591187\n",
      "epoch: 42  loss: 0.3105941712856293\n",
      "epoch: 43  loss: 0.31001466512680054\n",
      "epoch: 44  loss: 0.3079749643802643\n",
      "epoch: 45  loss: 0.3247561752796173\n",
      "epoch: 46  loss: 0.30411043763160706\n",
      "epoch: 47  loss: 0.30491700768470764\n",
      "epoch: 48  loss: 0.30534613132476807\n",
      "epoch: 49  loss: 0.30158743262290955\n",
      "epoch: 50  loss: 0.29867732524871826\n",
      "epoch: 51  loss: 0.2970477044582367\n",
      "epoch: 52  loss: 0.3057934045791626\n",
      "epoch: 53  loss: 0.3057735562324524\n",
      "epoch: 54  loss: 0.2949207127094269\n",
      "epoch: 55  loss: 0.2905842065811157\n",
      "epoch: 56  loss: 0.2889961898326874\n",
      "epoch: 57  loss: 0.2876695990562439\n",
      "epoch: 58  loss: 0.2880713939666748\n",
      "epoch: 59  loss: 0.2869653105735779\n",
      "epoch: 60  loss: 0.28335118293762207\n",
      "epoch: 61  loss: 0.2826346755027771\n",
      "epoch: 62  loss: 0.2810998857021332\n",
      "epoch: 63  loss: 0.28119707107543945\n",
      "epoch: 64  loss: 0.2782348394393921\n",
      "epoch: 65  loss: 0.27778562903404236\n",
      "epoch: 66  loss: 0.2760199010372162\n",
      "epoch: 67  loss: 0.2783900499343872\n",
      "epoch: 68  loss: 0.28149089217185974\n",
      "epoch: 69  loss: 0.27323126792907715\n",
      "epoch: 70  loss: 0.28767120838165283\n",
      "epoch: 71  loss: 0.2715686857700348\n",
      "epoch: 72  loss: 0.2749244272708893\n",
      "epoch: 73  loss: 0.2700548470020294\n",
      "epoch: 74  loss: 0.2676113247871399\n",
      "epoch: 75  loss: 0.2660831809043884\n",
      "epoch: 76  loss: 0.27202582359313965\n",
      "epoch: 77  loss: 0.26717260479927063\n",
      "epoch: 78  loss: 0.2627946436405182\n",
      "epoch: 79  loss: 0.2632959187030792\n",
      "epoch: 80  loss: 0.26275309920310974\n",
      "epoch: 81  loss: 0.26094433665275574\n",
      "epoch: 82  loss: 0.2639159858226776\n",
      "epoch: 83  loss: 0.2958265244960785\n",
      "epoch: 84  loss: 0.26622816920280457\n",
      "epoch: 85  loss: 0.27019041776657104\n",
      "epoch: 86  loss: 0.2599622309207916\n",
      "epoch: 87  loss: 0.2574136257171631\n",
      "epoch: 88  loss: 0.25380954146385193\n",
      "epoch: 89  loss: 0.2542348802089691\n",
      "epoch: 90  loss: 0.2527575194835663\n",
      "epoch: 91  loss: 0.2529074251651764\n",
      "epoch: 92  loss: 0.25020456314086914\n",
      "epoch: 93  loss: 0.24901527166366577\n",
      "epoch: 94  loss: 0.25224146246910095\n",
      "epoch: 95  loss: 0.25273531675338745\n",
      "epoch: 96  loss: 0.24553336203098297\n",
      "epoch: 97  loss: 0.24579362571239471\n",
      "epoch: 98  loss: 0.24472810328006744\n",
      "epoch: 99  loss: 0.24805231392383575\n"
     ]
    }
   ],
   "source": [
    "model, opt = get_model()\n",
    "\n",
    "for epoch in range(epochs):\n",
    "    for x, y in HR_dl:\n",
    "        y_pred = model(x)\n",
    "        loss = loss_fn(y_pred, y)\n",
    "        opt.zero_grad()\n",
    "        loss.backward()\n",
    "        opt.step()\n",
    "    with torch.no_grad():\n",
    "        print('epoch:', epoch, ' loss:', loss_fn(model(X), Y).data.item())"
   ]
  },
  {
   "cell_type": "markdown",
   "metadata": {},
   "source": [
    "# 添加验证\n",
    "## 了解过拟合与欠拟合\n",
    "过拟合：对训练数据过度拟合，但是对于未知数据预测很差\n",
    "\n",
    "欠拟合：对训练数据拟合不够，对于未知数据预测很差"
   ]
  },
  {
   "cell_type": "code",
   "execution_count": 292,
   "metadata": {},
   "outputs": [],
   "source": [
    "from sklearn.model_selection import train_test_split"
   ]
  },
  {
   "cell_type": "code",
   "execution_count": 293,
   "metadata": {},
   "outputs": [],
   "source": [
    "train_x, test_x, train_y, test_y = train_test_split(X_data, Y_data)"
   ]
  },
  {
   "cell_type": "code",
   "execution_count": 296,
   "metadata": {},
   "outputs": [
    {
     "data": {
      "text/plain": [
       "(14999, 20)"
      ]
     },
     "execution_count": 296,
     "metadata": {},
     "output_type": "execute_result"
    }
   ],
   "source": [
    "X_data.shape"
   ]
  },
  {
   "cell_type": "code",
   "execution_count": 299,
   "metadata": {},
   "outputs": [
    {
     "data": {
      "text/plain": [
       "((11249, 20), (11249, 1), (3750, 20), (3750, 1))"
      ]
     },
     "execution_count": 299,
     "metadata": {},
     "output_type": "execute_result"
    }
   ],
   "source": [
    "train_x.shape, train_y.shape, test_x.shape, test_y.shape"
   ]
  },
  {
   "cell_type": "code",
   "execution_count": 312,
   "metadata": {},
   "outputs": [],
   "source": [
    "train_ds = TensorDataset(torch.from_numpy(train_x).type(torch.float32), torch.from_numpy(train_y).type(torch.float32))\n",
    "train_dl = DataLoader(train_ds, batch_size=batch, shuffle=True)"
   ]
  },
  {
   "cell_type": "code",
   "execution_count": 313,
   "metadata": {},
   "outputs": [],
   "source": [
    "test_ds = TensorDataset(torch.from_numpy(test_x), torch.from_numpy(test_y))\n",
    "test_dl = DataLoader(test_ds, batch_size=batch)# shuffle会有额外开销"
   ]
  },
  {
   "cell_type": "markdown",
   "metadata": {},
   "source": [
    "# 如何计算正确率"
   ]
  },
  {
   "cell_type": "raw",
   "metadata": {},
   "source": [
    "y_pred = (y_pred > 0.5).type(torch.int32)\n"
   ]
  },
  {
   "cell_type": "code",
   "execution_count": 325,
   "metadata": {},
   "outputs": [],
   "source": [
    "def acc(y_pred, y_true):\n",
    "    y_pred = (y_pred > 0.5).type(torch.int32)\n",
    "    acc = (y_pred == y_true).float().mean()\n",
    "    return acc"
   ]
  },
  {
   "cell_type": "code",
   "execution_count": 327,
   "metadata": {},
   "outputs": [
    {
     "name": "stderr",
     "output_type": "stream",
     "text": [
      "/Users/optimus/.pyenv/versions/anaconda3-5.3.1/lib/python3.7/site-packages/torch/nn/functional.py:1709: UserWarning: nn.functional.sigmoid is deprecated. Use torch.sigmoid instead.\n",
      "  warnings.warn(\"nn.functional.sigmoid is deprecated. Use torch.sigmoid instead.\")\n"
     ]
    },
    {
     "name": "stdout",
     "output_type": "stream",
     "text": [
      "epoch: 0 loss: 0.564 acc: 0.763 test_loss 0.567 test_acc 0.757\n",
      "epoch: 1 loss: 0.562 acc: 0.763 test_loss 0.566 test_acc 0.757\n",
      "epoch: 2 loss: 0.56 acc: 0.763 test_loss 0.563 test_acc 0.757\n",
      "epoch: 3 loss: 0.557 acc: 0.763 test_loss 0.561 test_acc 0.757\n",
      "epoch: 4 loss: 0.554 acc: 0.763 test_loss 0.557 test_acc 0.757\n",
      "epoch: 5 loss: 0.553 acc: 0.763 test_loss 0.556 test_acc 0.757\n",
      "epoch: 6 loss: 0.547 acc: 0.763 test_loss 0.551 test_acc 0.757\n",
      "epoch: 7 loss: 0.543 acc: 0.763 test_loss 0.546 test_acc 0.757\n",
      "epoch: 8 loss: 0.538 acc: 0.763 test_loss 0.543 test_acc 0.757\n",
      "epoch: 9 loss: 0.535 acc: 0.763 test_loss 0.539 test_acc 0.757\n",
      "epoch: 10 loss: 0.528 acc: 0.763 test_loss 0.532 test_acc 0.757\n",
      "epoch: 11 loss: 0.523 acc: 0.763 test_loss 0.527 test_acc 0.757\n",
      "epoch: 12 loss: 0.519 acc: 0.763 test_loss 0.524 test_acc 0.757\n",
      "epoch: 13 loss: 0.51 acc: 0.763 test_loss 0.514 test_acc 0.757\n",
      "epoch: 14 loss: 0.503 acc: 0.763 test_loss 0.508 test_acc 0.757\n",
      "epoch: 15 loss: 0.498 acc: 0.763 test_loss 0.502 test_acc 0.757\n",
      "epoch: 16 loss: 0.487 acc: 0.763 test_loss 0.491 test_acc 0.757\n",
      "epoch: 17 loss: 0.478 acc: 0.763 test_loss 0.483 test_acc 0.757\n",
      "epoch: 18 loss: 0.471 acc: 0.762 test_loss 0.476 test_acc 0.754\n",
      "epoch: 19 loss: 0.462 acc: 0.761 test_loss 0.466 test_acc 0.753\n",
      "epoch: 20 loss: 0.453 acc: 0.759 test_loss 0.458 test_acc 0.751\n",
      "epoch: 21 loss: 0.444 acc: 0.76 test_loss 0.449 test_acc 0.752\n",
      "epoch: 22 loss: 0.437 acc: 0.76 test_loss 0.441 test_acc 0.752\n",
      "epoch: 23 loss: 0.428 acc: 0.758 test_loss 0.433 test_acc 0.749\n",
      "epoch: 24 loss: 0.42 acc: 0.77 test_loss 0.425 test_acc 0.763\n",
      "epoch: 25 loss: 0.414 acc: 0.803 test_loss 0.419 test_acc 0.794\n",
      "epoch: 26 loss: 0.407 acc: 0.821 test_loss 0.412 test_acc 0.813\n",
      "epoch: 27 loss: 0.399 acc: 0.82 test_loss 0.403 test_acc 0.811\n",
      "epoch: 28 loss: 0.39 acc: 0.796 test_loss 0.394 test_acc 0.791\n",
      "epoch: 29 loss: 0.384 acc: 0.812 test_loss 0.388 test_acc 0.803\n",
      "epoch: 30 loss: 0.378 acc: 0.805 test_loss 0.382 test_acc 0.797\n",
      "epoch: 31 loss: 0.372 acc: 0.81 test_loss 0.376 test_acc 0.804\n",
      "epoch: 32 loss: 0.369 acc: 0.787 test_loss 0.373 test_acc 0.778\n",
      "epoch: 33 loss: 0.36 acc: 0.834 test_loss 0.364 test_acc 0.832\n",
      "epoch: 34 loss: 0.356 acc: 0.852 test_loss 0.36 test_acc 0.849\n",
      "epoch: 35 loss: 0.355 acc: 0.806 test_loss 0.358 test_acc 0.799\n",
      "epoch: 36 loss: 0.35 acc: 0.862 test_loss 0.353 test_acc 0.86\n",
      "epoch: 37 loss: 0.342 acc: 0.857 test_loss 0.345 test_acc 0.853\n",
      "epoch: 38 loss: 0.34 acc: 0.843 test_loss 0.343 test_acc 0.839\n",
      "epoch: 39 loss: 0.335 acc: 0.862 test_loss 0.337 test_acc 0.858\n",
      "epoch: 40 loss: 0.332 acc: 0.866 test_loss 0.334 test_acc 0.86\n",
      "epoch: 41 loss: 0.328 acc: 0.864 test_loss 0.33 test_acc 0.86\n",
      "epoch: 42 loss: 0.326 acc: 0.874 test_loss 0.328 test_acc 0.867\n",
      "epoch: 43 loss: 0.325 acc: 0.851 test_loss 0.325 test_acc 0.851\n",
      "epoch: 44 loss: 0.319 acc: 0.864 test_loss 0.32 test_acc 0.863\n",
      "epoch: 45 loss: 0.319 acc: 0.857 test_loss 0.32 test_acc 0.857\n",
      "epoch: 46 loss: 0.315 acc: 0.865 test_loss 0.316 test_acc 0.863\n",
      "epoch: 47 loss: 0.312 acc: 0.869 test_loss 0.313 test_acc 0.866\n",
      "epoch: 48 loss: 0.309 acc: 0.88 test_loss 0.31 test_acc 0.874\n",
      "epoch: 49 loss: 0.307 acc: 0.874 test_loss 0.307 test_acc 0.869\n",
      "epoch: 50 loss: 0.306 acc: 0.883 test_loss 0.307 test_acc 0.879\n",
      "epoch: 51 loss: 0.303 acc: 0.883 test_loss 0.303 test_acc 0.879\n",
      "epoch: 52 loss: 0.302 acc: 0.885 test_loss 0.302 test_acc 0.882\n",
      "epoch: 53 loss: 0.302 acc: 0.885 test_loss 0.303 test_acc 0.883\n",
      "epoch: 54 loss: 0.298 acc: 0.886 test_loss 0.298 test_acc 0.882\n",
      "epoch: 55 loss: 0.295 acc: 0.886 test_loss 0.295 test_acc 0.882\n",
      "epoch: 56 loss: 0.297 acc: 0.877 test_loss 0.295 test_acc 0.873\n",
      "epoch: 57 loss: 0.297 acc: 0.887 test_loss 0.296 test_acc 0.883\n",
      "epoch: 58 loss: 0.295 acc: 0.878 test_loss 0.293 test_acc 0.875\n",
      "epoch: 59 loss: 0.298 acc: 0.888 test_loss 0.297 test_acc 0.889\n",
      "epoch: 60 loss: 0.289 acc: 0.891 test_loss 0.287 test_acc 0.887\n",
      "epoch: 61 loss: 0.287 acc: 0.888 test_loss 0.285 test_acc 0.882\n",
      "epoch: 62 loss: 0.304 acc: 0.852 test_loss 0.3 test_acc 0.851\n",
      "epoch: 63 loss: 0.284 acc: 0.892 test_loss 0.282 test_acc 0.887\n",
      "epoch: 64 loss: 0.286 acc: 0.889 test_loss 0.286 test_acc 0.887\n",
      "epoch: 65 loss: 0.282 acc: 0.896 test_loss 0.279 test_acc 0.892\n",
      "epoch: 66 loss: 0.28 acc: 0.897 test_loss 0.279 test_acc 0.892\n",
      "epoch: 67 loss: 0.279 acc: 0.895 test_loss 0.276 test_acc 0.89\n",
      "epoch: 68 loss: 0.278 acc: 0.899 test_loss 0.276 test_acc 0.894\n",
      "epoch: 69 loss: 0.277 acc: 0.898 test_loss 0.275 test_acc 0.894\n",
      "epoch: 70 loss: 0.287 acc: 0.887 test_loss 0.286 test_acc 0.891\n",
      "epoch: 71 loss: 0.277 acc: 0.895 test_loss 0.273 test_acc 0.89\n",
      "epoch: 72 loss: 0.276 acc: 0.897 test_loss 0.274 test_acc 0.896\n",
      "epoch: 73 loss: 0.279 acc: 0.889 test_loss 0.274 test_acc 0.885\n",
      "epoch: 74 loss: 0.278 acc: 0.892 test_loss 0.277 test_acc 0.894\n",
      "epoch: 75 loss: 0.271 acc: 0.9 test_loss 0.268 test_acc 0.895\n",
      "epoch: 76 loss: 0.271 acc: 0.9 test_loss 0.267 test_acc 0.899\n",
      "epoch: 77 loss: 0.291 acc: 0.884 test_loss 0.29 test_acc 0.885\n",
      "epoch: 78 loss: 0.269 acc: 0.9 test_loss 0.266 test_acc 0.897\n",
      "epoch: 79 loss: 0.272 acc: 0.898 test_loss 0.27 test_acc 0.897\n",
      "epoch: 80 loss: 0.267 acc: 0.902 test_loss 0.264 test_acc 0.897\n",
      "epoch: 81 loss: 0.266 acc: 0.902 test_loss 0.262 test_acc 0.898\n",
      "epoch: 82 loss: 0.279 acc: 0.884 test_loss 0.273 test_acc 0.881\n",
      "epoch: 83 loss: 0.281 acc: 0.884 test_loss 0.273 test_acc 0.879\n",
      "epoch: 84 loss: 0.266 acc: 0.902 test_loss 0.262 test_acc 0.9\n",
      "epoch: 85 loss: 0.264 acc: 0.903 test_loss 0.26 test_acc 0.899\n",
      "epoch: 86 loss: 0.262 acc: 0.902 test_loss 0.258 test_acc 0.9\n",
      "epoch: 87 loss: 0.264 acc: 0.902 test_loss 0.261 test_acc 0.898\n",
      "epoch: 88 loss: 0.265 acc: 0.899 test_loss 0.262 test_acc 0.898\n",
      "epoch: 89 loss: 0.268 acc: 0.896 test_loss 0.262 test_acc 0.897\n",
      "epoch: 90 loss: 0.263 acc: 0.902 test_loss 0.257 test_acc 0.899\n",
      "epoch: 91 loss: 0.259 acc: 0.905 test_loss 0.255 test_acc 0.903\n",
      "epoch: 92 loss: 0.261 acc: 0.904 test_loss 0.258 test_acc 0.899\n",
      "epoch: 93 loss: 0.27 acc: 0.895 test_loss 0.269 test_acc 0.894\n",
      "epoch: 94 loss: 0.259 acc: 0.903 test_loss 0.256 test_acc 0.899\n",
      "epoch: 95 loss: 0.257 acc: 0.903 test_loss 0.253 test_acc 0.902\n",
      "epoch: 96 loss: 0.256 acc: 0.903 test_loss 0.252 test_acc 0.903\n",
      "epoch: 97 loss: 0.268 acc: 0.897 test_loss 0.26 test_acc 0.893\n",
      "epoch: 98 loss: 0.258 acc: 0.902 test_loss 0.254 test_acc 0.9\n",
      "epoch: 99 loss: 0.254 acc: 0.907 test_loss 0.249 test_acc 0.906\n"
     ]
    }
   ],
   "source": [
    "model, opt = get_model()\n",
    "\n",
    "for epoch in range(epochs):\n",
    "    for x, y in train_dl:\n",
    "        y_pred = model(x)\n",
    "        loss = loss_fn(y_pred, y)\n",
    "        opt.zero_grad()\n",
    "        loss.backward()\n",
    "        opt.step()\n",
    "    with torch.no_grad():\n",
    "        epoch_acc = acc(model(torch.from_numpy(train_x).type(torch.float32)), torch.from_numpy(train_y).type(torch.float32))\n",
    "        epoch_loss = loss_fn(model(torch.from_numpy(train_x).type(torch.float32)), torch.from_numpy(train_y).type(torch.float32)).data\n",
    "        \n",
    "        epoch_test_acc = acc(model(torch.from_numpy(test_x).type(torch.float32)), torch.from_numpy(test_y).type(torch.float32))\n",
    "        epoch_test_loss = loss_fn(model(torch.from_numpy(test_x).type(torch.float32)), torch.from_numpy(test_y).type(torch.float32)).data\n",
    "        print('epoch:', epoch,\n",
    "              'loss:', round(epoch_loss.item(), 3),\n",
    "              'acc:', round(epoch_acc.item(), 3),\n",
    "              'test_loss', round(epoch_test_loss.item(), 3),\n",
    "              'test_acc', round(epoch_test_acc.item(), 3)\n",
    "             )"
   ]
  },
  {
   "cell_type": "code",
   "execution_count": null,
   "metadata": {},
   "outputs": [],
   "source": []
  }
 ],
 "metadata": {
  "kernelspec": {
   "display_name": "Python 3",
   "language": "python",
   "name": "python3"
  },
  "language_info": {
   "codemirror_mode": {
    "name": "ipython",
    "version": 3
   },
   "file_extension": ".py",
   "mimetype": "text/x-python",
   "name": "python",
   "nbconvert_exporter": "python",
   "pygments_lexer": "ipython3",
   "version": "3.7.0"
  }
 },
 "nbformat": 4,
 "nbformat_minor": 2
}
