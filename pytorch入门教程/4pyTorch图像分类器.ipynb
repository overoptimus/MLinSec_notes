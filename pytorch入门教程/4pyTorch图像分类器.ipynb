{
 "cells": [
  {
   "cell_type": "markdown",
   "metadata": {},
   "source": [
    "已经了解了如何定义神经网络，计算损失值和网络里权重的更新。\n",
    "# 如何处理数据\n",
    "通常来说，当你处理图像，文本，语音或者视频数据时，可以使用标准python包将数据加载成numpy数组格式，然后将这个数组转换成torch.*Tensor\n",
    "* 对于图像，可以用Pillow，OpenCV\n",
    "* 对于语音，可以用scipy，Librosa\n",
    "* 对于文本，可以直接使用python或Cpython基础数据加载模块，或者用NLTK和SpaCy\n",
    "\n",
    "特别是对于视觉，torch已经创建了一个叫做torchvision的包，该包含有支持加载类似Imagenet、CIFAR10、MNIST等公共数据集的数据加载模块torchvision.datasets和支持加载图像数据的数据转换模块torch.utils.data.DataLoader。这提供了极大的便利，并且避免了编写“样板代码”。\n",
    "\n",
    "在本教程中，我们将使用CIFAR10数据集。它具有一下类别：飞机、汽车、鸟、猫、鹿、狗、青蛙、马、船、卡车。CIFAR-10数据集中的图片尺寸为3x32x32，即尺寸为32x32像素的3通道彩色图像。\n",
    "\n",
    "# 训练图像分类器\n",
    "我们将按顺序执行以下步骤：\n",
    "1. 使用torchvision加载和归一化CIFAR-10训练和测试数据集\n",
    "2. 定义一个卷积神经网络\n",
    "3. 定义一个损失函数\n",
    "4. 在训练样本数据上训练网络\n",
    "5. 在测试样本数据上测试网络"
   ]
  },
  {
   "cell_type": "code",
   "execution_count": 1,
   "metadata": {},
   "outputs": [],
   "source": [
    "import torch\n",
    "import torchvision\n",
    "import torchvision.transforms as transforms"
   ]
  },
  {
   "cell_type": "code",
   "execution_count": 2,
   "metadata": {},
   "outputs": [
    {
     "name": "stderr",
     "output_type": "stream",
     "text": [
      "\r",
      "0it [00:00, ?it/s]"
     ]
    },
    {
     "name": "stdout",
     "output_type": "stream",
     "text": [
      "Downloading https://www.cs.toronto.edu/~kriz/cifar-10-python.tar.gz to ./data/cifar-10-python.tar.gz\n"
     ]
    },
    {
     "name": "stderr",
     "output_type": "stream",
     "text": [
      "170500096it [3:06:39, 104418.89it/s]                                "
     ]
    },
    {
     "name": "stdout",
     "output_type": "stream",
     "text": [
      "Extracting ./data/cifar-10-python.tar.gz to ./data\n",
      "Files already downloaded and verified\n"
     ]
    },
    {
     "name": "stderr",
     "output_type": "stream",
     "text": [
      "\r",
      "170500096it [3:06:57, 104418.89it/s]"
     ]
    }
   ],
   "source": [
    "# torchvision数据集的输出是范围在[0,1]之间的PILImage，我们将它们转换成归一化范围为[-1,1]之间的张量Tensors。\n",
    "transform = transforms.Compose(\n",
    "    [\n",
    "        transforms.ToTensor(), transforms.Normalize((0.5, 0.5, 0.5), (0.5, 0.5, 0.5))\n",
    "    ])\n",
    "\n",
    "trainset = torchvision.datasets.CIFAR10(root='./data', train=True, download=True, transform=transform)\n",
    "\n",
    "trainloader = torch.utils.data.DataLoader(trainset, batch_size=4, shuffle=True, num_workers=2)\n",
    "\n",
    "testset = torchvision.datasets.CIFAR10(root='./data', train=False, download=True, transform=transform)\n",
    "\n",
    "testloader = torch.utils.data.DataLoader(testset, batch_size=4, shuffle=False, num_workers=2)\n",
    "\n",
    "classes = ('plane', 'car', 'bird', 'cat', 'deer', 'dog', 'frog', 'horse', 'ship', 'truck')\n"
   ]
  },
  {
   "cell_type": "code",
   "execution_count": 8,
   "metadata": {},
   "outputs": [
    {
     "data": {
      "image/png": "[encoded data removed]",
      "text/plain": [
       "<Figure size 432x288 with 1 Axes>"
      ]
     },
     "metadata": {
      "needs_background": "light"
     },
     "output_type": "display_data"
    },
    {
     "name": "stdout",
     "output_type": "stream",
     "text": [
      "  dog   cat  frog   car\n"
     ]
    }
   ],
   "source": [
    "# 展示一些训练图片\n",
    "import matplotlib.pyplot as plt\n",
    "import numpy as np\n",
    "\n",
    "def imshow(img):\n",
    "    img = img / 2 + 0.5\n",
    "    npimg = img.numpy()\n",
    "    plt.imshow(np.transpose(npimg, (1, 2, 0)))\n",
    "    plt.show()\n",
    "    \n",
    "# get some dandom training images    \n",
    "dataiter = iter(trainloader)\n",
    "images, labels = dataiter.next()\n",
    "# print(images)\n",
    "\n",
    "# show images\n",
    "imshow(torchvision.utils.make_grid(images))\n",
    "# print lables\n",
    "print(' '.join('%5s' % classes[labels[j]] for j in range(4)))"
   ]
  },
  {
   "cell_type": "code",
   "execution_count": 9,
   "metadata": {},
   "outputs": [],
   "source": [
    "import torch.nn as nn\n",
    "import torch.nn.functional as F"
   ]
  },
  {
   "cell_type": "code",
   "execution_count": 13,
   "metadata": {},
   "outputs": [],
   "source": [
    "class Net(nn.Module):\n",
    "    def __init__(self):\n",
    "        super(Net, self).__init__()\n",
    "        self.conv1 = nn.Conv2d(3, 6, 5)\n",
    "        self.pool = nn.MaxPool2d(2, 2)\n",
    "        self.conv2 = nn.Conv2d(6, 16, 5)\n",
    "        self.fc1 = nn.Linear(16 * 5 * 5, 120)\n",
    "        self.fc2 = nn.Linear(120, 84)\n",
    "        self.fc3 = nn.Linear(84, 10)\n",
    "        \n",
    "    def forward(self, x):\n",
    "        x = self.pool(F.relu(self.conv1(x)))\n",
    "        x = self.pool(F.relu(self.conv2(x)))\n",
    "        x = x.view(-1, 16*5*5)\n",
    "        x = F.relu(self.fc1(x))\n",
    "        x = F.relu(self.fc2(x))\n",
    "        x = self.fc3(x)\n",
    "        return x\n",
    "    \n",
    "    \n",
    "net = Net()"
   ]
  },
  {
   "cell_type": "code",
   "execution_count": 14,
   "metadata": {},
   "outputs": [],
   "source": [
    "# 定义一个损失函数和优化器，让我们使用分类交叉熵Cross-Entropy作为损失函数，动量SGD做优化器\n",
    "import torch.optim as optim\n",
    "\n",
    "criterion = nn.CrossEntropyLoss()\n",
    "optimizer = optim.SGD(net.parameters(), lr=0.0001, momentum=0.9)"
   ]
  },
  {
   "cell_type": "code",
   "execution_count": 15,
   "metadata": {},
   "outputs": [
    {
     "name": "stdout",
     "output_type": "stream",
     "text": [
      "[    1,  2000] loss: 2.303\n",
      "[    1,  4000] loss: 2.299\n",
      "[    1,  6000] loss: 2.291\n",
      "[    1,  8000] loss: 2.273\n",
      "[    1, 10000] loss: 2.221\n",
      "[    1, 12000] loss: 2.144\n",
      "[    2,  2000] loss: 2.047\n",
      "[    2,  4000] loss: 1.977\n",
      "[    2,  6000] loss: 1.943\n",
      "[    2,  8000] loss: 1.888\n",
      "[    2, 10000] loss: 1.852\n",
      "[    2, 12000] loss: 1.788\n",
      "Finished Training\n"
     ]
    }
   ],
   "source": [
    "# 开始训练网络，我们只需要在数据迭代器上循环传给网络和优化器输入就可以了\n",
    "for epoch in range(2): # loop over the dataset multiple times\n",
    "    running_loss = 0.0\n",
    "    for i, data in enumerate(trainloader, 0):\n",
    "        # get the inputs\n",
    "        inputs, labels = data\n",
    "        \n",
    "        # zero the parameter gradients\n",
    "        optimizer.zero_grad()\n",
    "        \n",
    "        # forward + backward + optimize\n",
    "        outputs = net(inputs)\n",
    "        loss = criterion(outputs, labels)\n",
    "        loss.backward()\n",
    "        optimizer.step()\n",
    "        \n",
    "        # print statistics\n",
    "        running_loss += loss.item()\n",
    "        if i % 2000 == 1999: # print every 2000 mini-batches\n",
    "            print('[%5d, %5d] loss: %.3f' % (epoch + 1, i + 1, running_loss / 2000))\n",
    "            running_loss = 0.0\n",
    "            \n",
    "            \n",
    "print('Finished Training')\n",
    "            "
   ]
  },
  {
   "cell_type": "code",
   "execution_count": 16,
   "metadata": {},
   "outputs": [],
   "source": [
    "# 保存训练的模型\n",
    "PATH = './cifar_net.pth'\n",
    "torch.save(net.state_dict, PATH)"
   ]
  },
  {
   "cell_type": "code",
   "execution_count": 18,
   "metadata": {},
   "outputs": [
    {
     "data": {
      "image/png": "[encoded data removed]",
      "text/plain": [
       "<Figure size 432x288 with 1 Axes>"
      ]
     },
     "metadata": {
      "needs_background": "light"
     },
     "output_type": "display_data"
    },
    {
     "name": "stdout",
     "output_type": "stream",
     "text": [
      "GroundTruth:   cat  ship  ship plane\n"
     ]
    }
   ],
   "source": [
    "# 在测试集上测试网络\n",
    "'''\n",
    "我们已经对网络进行了两次训练，但是我们还需要检查网络学到了什么\n",
    "我们将铜鼓预测神经网络输出的类别标签并根据实际情况进行检查。如果预测正确，则将样本添加到正确预测列表。\n",
    "'''\n",
    "# 第一步，显示一张图片\n",
    "dataiter = iter(testloader)\n",
    "images, labels = dataiter.next()\n",
    "\n",
    "imshow(torchvision.utils.make_grid(images))\n",
    "print('GroundTruth:', ' '.join('%5s' % classes[labels[j]] for j in range(4)))"
   ]
  },
  {
   "cell_type": "code",
   "execution_count": 20,
   "metadata": {},
   "outputs": [
    {
     "name": "stdout",
     "output_type": "stream",
     "text": [
      "tensor([[-1.8899e+00,  3.4770e-04,  2.2519e-02,  1.6725e+00,  5.4346e-02,\n",
      "          1.2193e+00,  1.4275e+00, -3.8161e-01, -1.0173e+00, -6.2225e-01],\n",
      "        [ 2.4601e+00,  3.0866e+00, -1.8832e+00, -1.3338e+00, -2.5772e+00,\n",
      "         -1.9507e+00, -2.8243e+00, -1.8077e+00,  4.6918e+00,  2.5559e+00],\n",
      "        [ 1.1058e+00,  2.1344e+00, -1.3945e+00, -1.8952e-01, -2.0894e+00,\n",
      "         -5.2777e-01, -1.6618e+00, -1.0187e+00,  2.6211e+00,  1.7037e+00],\n",
      "        [ 2.6989e+00,  2.0415e+00, -1.0849e+00, -1.3638e+00, -1.6917e+00,\n",
      "         -1.7001e+00, -2.6660e+00, -1.0740e+00,  3.6161e+00,  1.5312e+00]],\n",
      "       grad_fn=<AddmmBackward>)\n"
     ]
    }
   ],
   "source": [
    "# 这里是加载已经训练好的网络模型，但是我们现在并不需要这么做\n",
    "\n",
    "'''\n",
    "net = Net()\n",
    "net.load_state_dict(torch.load(PATH))\n",
    "'''\n",
    "\n",
    "# 现在看一下网络的预测是什么\n",
    "outputs = net(images)\n",
    "print(outputs)"
   ]
  },
  {
   "cell_type": "code",
   "execution_count": 22,
   "metadata": {},
   "outputs": [
    {
     "name": "stdout",
     "output_type": "stream",
     "text": [
      "Predicted:    cat ship ship ship\n"
     ]
    }
   ],
   "source": [
    "# 输出是预测与10个类的近似程度，与某个类的近似程度越高，网络就越认为图像是属于这一类别的，所以，让我们打印其中最相思类别标签：\n",
    "_, predicted = torch.max(outputs, 1)\n",
    "print('Predicted: ', ''.join('%5s' % classes[predicted[j]] for j in range(4)))"
   ]
  },
  {
   "cell_type": "code",
   "execution_count": 23,
   "metadata": {},
   "outputs": [
    {
     "name": "stdout",
     "output_type": "stream",
     "text": [
      "Accuracy of the network on the 10000 test images: 35 %\n"
     ]
    }
   ],
   "source": [
    "#结果还好，我们看一下在整个测试集上的表现\n",
    "correct = 0\n",
    "total = 0\n",
    "with torch.no_grad():\n",
    "    for data in testloader:\n",
    "        images, labels = data\n",
    "        outputs = net(images)\n",
    "        _, predicted = torch.max(outputs, 1)\n",
    "        total += labels.size(0)\n",
    "        correct += (predicted == labels).sum().item()\n",
    "        \n",
    "print('Accuracy of the network on the 10000 test images: %d %%' % (100*correct/total))"
   ]
  },
  {
   "cell_type": "code",
   "execution_count": 25,
   "metadata": {},
   "outputs": [
    {
     "name": "stdout",
     "output_type": "stream",
     "text": [
      "Accuracy of plane : 40 %\n",
      "Accuracy of   car : 40 %\n",
      "Accuracy of  bird :  3 %\n",
      "Accuracy of   cat : 35 %\n",
      "Accuracy of  deer : 13 %\n",
      "Accuracy of   dog :  4 %\n",
      "Accuracy of  frog : 69 %\n",
      "Accuracy of horse : 49 %\n",
      "Accuracy of  ship : 56 %\n",
      "Accuracy of truck : 42 %\n"
     ]
    }
   ],
   "source": [
    "# 看一下各类的表现：\n",
    "class_correct = list(0. for i in range(10))\n",
    "class_total = list(0. for i in range(10))\n",
    "with torch.no_grad():\n",
    "    for data in testloader:\n",
    "        images, labels = data\n",
    "        outputs = net(images)\n",
    "        _, predicted = torch.max(outputs, 1)\n",
    "        c = (predicted == labels).squeeze()\n",
    "        for i in range(4):\n",
    "            label = labels[i]\n",
    "            class_correct[label] += c[i].item()\n",
    "            class_total[label] += 1\n",
    "            \n",
    "for i in range(10):\n",
    "    print('Accuracy of %5s : %2d %%' % (classes[i], 100*class_correct[i]/class_total[i]))"
   ]
  },
  {
   "cell_type": "code",
   "execution_count": 26,
   "metadata": {},
   "outputs": [
    {
     "name": "stdout",
     "output_type": "stream",
     "text": [
      "cpu\n"
     ]
    }
   ],
   "source": [
    "# 如何在GPU上训练，如果我们有可用的CUDA，首先让我们将设备定义为第一个可见的cuda设备\n",
    "device = torch.device('cuda:0' if torch.cuda.is_available() else 'cpu')\n",
    "\n",
    "print(device)"
   ]
  },
  {
   "cell_type": "code",
   "execution_count": null,
   "metadata": {},
   "outputs": [],
   "source": [
    "net.to(device) # 将递归遍历所有模块，并将其参数和缓冲区转换为CUDA张量\n",
    "\n",
    "#每一步的输入和目标也发送到GPU\n",
    "inputs, labels = data[0].to(device), data[1].to(device)"
   ]
  }
 ],
 "metadata": {
  "kernelspec": {
   "display_name": "Python 3",
   "language": "python",
   "name": "python3"
  },
  "language_info": {
   "codemirror_mode": {
    "name": "ipython",
    "version": 3
   },
   "file_extension": ".py",
   "mimetype": "text/x-python",
   "name": "python",
   "nbconvert_exporter": "python",
   "pygments_lexer": "ipython3",
   "version": "3.7.2"
  }
 },
 "nbformat": 4,
 "nbformat_minor": 2
}
