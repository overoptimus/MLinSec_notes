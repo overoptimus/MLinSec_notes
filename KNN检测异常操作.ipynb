{
 "cells": [
  {
   "cell_type": "code",
   "execution_count": 1,
   "metadata": {},
   "outputs": [],
   "source": [
    "#黑客入侵Linux服务器后，会进行提权操作，获取root权限。\n",
    "#通过收集Linux服务器的Bash操作日志，这里仅仅给出了操作命令，而非完整命令。对特定用户的操作习惯进行训练，然后识别黑客的异常操作"
   ]
  },
  {
   "cell_type": "markdown",
   "metadata": {},
   "source": [
    "# 数据收集和数据清洗\n",
    "训练数据有50个用户的操作日志，每个日志有15000条操作命令，前5000条是正常操作，后10000条中存在攻击操作。我们只选择了一个user3来进行机器学习训练。\n",
    "\n",
    "# 特征化\n",
    "1. 对日志中所有操作命令使用次数进行排序，选出使用最多的前50条记录做`M1`，选出使用最少的前50条记做`M2`。\n",
    "2. 每100条操作命令组成一个操作序列，这样的序列有150个，这100条操作中不重复的命令个数，记做`F1`。这100条操作中最多的10条且在`M1`中的命令个数（重合度），记做`F2`。这100条操作中最少的10条且在`M2`中的命令个数（重合度），记做`F3`。一个序列`{F1,F2,F3}`作为这个序列的特征，这样的特征有150个，前面110个作为训练集，后面40个作为测试集。\n",
    "3. 打标签，前50个正常全部是0，后100个有0也有1。这150个标签，对应到第二步中的150个特征。前面110个作为训练，后面40个作为测试。\n",
    "\n",
    "> 这个特征是否对应特定用户有效？物理意义是什么？\n",
    "\n",
    "# 训练模型\n",
    "使用KNN函数进行训练。"
   ]
  },
  {
   "cell_type": "code",
   "execution_count": 2,
   "metadata": {},
   "outputs": [
    {
     "ename": "NameError",
     "evalue": "name 'KNeighborsClassifier' is not defined",
     "output_type": "error",
     "traceback": [
      "\u001b[0;31m---------------------------------------------------------------------------\u001b[0m",
      "\u001b[0;31mNameError\u001b[0m                                 Traceback (most recent call last)",
      "\u001b[0;32m<ipython-input-2-f894013142ec>\u001b[0m in \u001b[0;36m<module>\u001b[0;34m()\u001b[0m\n\u001b[0;32m----> 1\u001b[0;31m \u001b[0mneigh\u001b[0m \u001b[0;34m=\u001b[0m \u001b[0mKNeighborsClassifier\u001b[0m\u001b[0;34m(\u001b[0m\u001b[0mn_neighbors\u001b[0m\u001b[0;34m=\u001b[0m\u001b[0;36m3\u001b[0m\u001b[0;34m)\u001b[0m\u001b[0;34m\u001b[0m\u001b[0m\n\u001b[0m\u001b[1;32m      2\u001b[0m \u001b[0mneigh\u001b[0m\u001b[0;34m.\u001b[0m\u001b[0mfit\u001b[0m\u001b[0;34m(\u001b[0m\u001b[0mx_train\u001b[0m\u001b[0;34m,\u001b[0m \u001b[0my_train\u001b[0m\u001b[0;34m)\u001b[0m\u001b[0;34m\u001b[0m\u001b[0m\n\u001b[1;32m      3\u001b[0m \u001b[0my_predict\u001b[0m \u001b[0;34m=\u001b[0m \u001b[0mneigh\u001b[0m\u001b[0;34m.\u001b[0m\u001b[0mpredict\u001b[0m\u001b[0;34m(\u001b[0m\u001b[0mx_test\u001b[0m\u001b[0;34m)\u001b[0m\u001b[0;34m\u001b[0m\u001b[0m\n",
      "\u001b[0;31mNameError\u001b[0m: name 'KNeighborsClassifier' is not defined"
     ]
    }
   ],
   "source": [
    "neigh = KNeighborsClassifier(n_neighbors=3)\n",
    "neigh.fit(x_train, y_train)\n",
    "y_predict = neigh.predict(x_test)"
   ]
  },
  {
   "cell_type": "code",
   "execution_count": 3,
   "metadata": {},
   "outputs": [],
   "source": [
    "#完整代码"
   ]
  },
  {
   "cell_type": "code",
   "execution_count": 23,
   "metadata": {},
   "outputs": [
    {
     "name": "stdout",
     "output_type": "stream",
     "text": [
      "score: 100.0\n",
      "             precision    recall  f1-score   support\n",
      "\n",
      "          0       1.00      1.00      1.00        40\n",
      "\n",
      "avg / total       1.00      1.00      1.00        40\n",
      "\n"
     ]
    }
   ],
   "source": [
    "import sys\n",
    "import urllib\n",
    "#import urlparse\n",
    "import re\n",
    "import numpy as np\n",
    "from sklearn.externals import joblib\n",
    "#import HTMLParser\n",
    "import nltk\n",
    "import csv\n",
    "from nltk.probability import FreqDist\n",
    "from sklearn.feature_extraction.text import CountVectorizer\n",
    "from sklearn.neighbors import KNeighborsClassifier\n",
    "from sklearn.metrics import classification_report\n",
    "from sklearn import metrics\n",
    "\n",
    "#测试样本数\n",
    "N = 110\n",
    "\n",
    "def load_user_cmd(filename):\n",
    "    cmd_list = []\n",
    "    dist_max = []\n",
    "    dist_min = []\n",
    "    dist = []\n",
    "    with open(filename) as f:\n",
    "        i = 0\n",
    "        x = []\n",
    "        for line in f:\n",
    "            #print(line)\n",
    "            line = line.strip('\\n')\n",
    "            x.append(line)\n",
    "            dist.append(line)\n",
    "            i += 1\n",
    "            if i == 100:\n",
    "                cmd_list.append(x)\n",
    "                x = []\n",
    "                i = 0\n",
    "                \n",
    "    fdist = FreqDist(dist).most_common()\n",
    "    dist_max = set([i[0] for i in fdist[0:50]])\n",
    "    dist_min = set([j[0] for j in fdist[-50:0]])\n",
    "    return cmd_list, dist_max,dist_min\n",
    "\n",
    "def get_user_cmd_feature(user_cmd_list, dist_max, dist_min):\n",
    "    user_cmd_feature = []\n",
    "    for cmd_block in user_cmd_list:\n",
    "        f1 = len(set(cmd_block))\n",
    "        fdist = FreqDist(cmd_block).most_common()\n",
    "        f2 = [i[0] for i in fdist[0:10]]\n",
    "        f3 = [j[0] for j in fdist[-10:]]\n",
    "        f2 = len(set(f2)&set(dist_max))\n",
    "        f3 = len(set(f3)&set(dist_min))\n",
    "        x = [f1, f2, f3]\n",
    "        user_cmd_feature.append(x)\n",
    "    return user_cmd_feature\n",
    "\n",
    "def get_label(filename, index = 0):\n",
    "    x = []\n",
    "    with open(filename) as f:\n",
    "        #print(f.readlines())\n",
    "        for line in f.readlines():\n",
    "            line = line.strip('\\n')\n",
    "            #print('长度', line)\n",
    "            x.append(int(line.split()[index]))\n",
    "            \n",
    "    return x\n",
    "\n",
    "if __name__ == '__main__':\n",
    "    user_cmd_list, user_cmd_dist_max, user_cmd_dist_min = load_user_cmd('./data/MasqueradeDat/User10')\n",
    "    user_cmd_feature = get_user_cmd_feature(user_cmd_list, user_cmd_dist_max, user_cmd_dist_min)\n",
    "    \n",
    "    labels = get_label('./data/MasqueradeDat/label.txt', 2)\n",
    "    \n",
    "    y = [0] * 50 + labels\n",
    "    x_train = user_cmd_feature[0:N]\n",
    "    y_train = y[0:N]\n",
    "    \n",
    "    x_test = user_cmd_feature[N:150]\n",
    "    y_test = y[N:150]\n",
    "    \n",
    "    neigh = KNeighborsClassifier(n_neighbors = 3)\n",
    "    neigh.fit(x_train, y_train)\n",
    "    y_predict = neigh.predict(x_test)\n",
    "    \n",
    "    score = np.mean(y_test==y_predict)*100\n",
    "    print('score:', score)\n",
    "    print(classification_report(y_test, y_predict))"
   ]
  },
  {
   "cell_type": "code",
   "execution_count": null,
   "metadata": {},
   "outputs": [],
   "source": []
  }
 ],
 "metadata": {
  "kernelspec": {
   "display_name": "Python 3",
   "language": "python",
   "name": "python3"
  },
  "language_info": {
   "codemirror_mode": {
    "name": "ipython",
    "version": 3
   },
   "file_extension": ".py",
   "mimetype": "text/x-python",
   "name": "python",
   "nbconvert_exporter": "python",
   "pygments_lexer": "ipython3",
   "version": "3.7.0"
  }
 },
 "nbformat": 4,
 "nbformat_minor": 2
}
